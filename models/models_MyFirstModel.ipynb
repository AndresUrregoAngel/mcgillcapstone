{
 "cells": [
  {
   "cell_type": "code",
   "execution_count": 77,
   "metadata": {},
   "outputs": [
    {
     "name": "stdout",
     "output_type": "stream",
     "text": [
      "Requesting query... ok.\n",
      "Job ID: 6347bff6-945d-447e-ae7c-74b9cd83fc03\n",
      "Query running...\n",
      "  Elapsed 7.89 s. Waiting...\n",
      "  Elapsed 9.12 s. Waiting...\n",
      "  Elapsed 10.32 s. Waiting...\n",
      "  Elapsed 11.54 s. Waiting...\n",
      "  Elapsed 12.76 s. Waiting...\n",
      "  Elapsed 13.99 s. Waiting...\n",
      "  Elapsed 15.21 s. Waiting...\n",
      "  Elapsed 16.45 s. Waiting...\n",
      "  Elapsed 17.66 s. Waiting...\n",
      "  Elapsed 18.9 s. Waiting...\n",
      "  Elapsed 20.1 s. Waiting...\n",
      "  Elapsed 21.3 s. Waiting...\n",
      "  Elapsed 22.53 s. Waiting...\n",
      "  Elapsed 23.75 s. Waiting...\n",
      "  Elapsed 24.97 s. Waiting...\n",
      "  Elapsed 25.98 s. Waiting...\n",
      "  Elapsed 27.2 s. Waiting...\n",
      "  Elapsed 28.45 s. Waiting...\n",
      "  Elapsed 29.67 s. Waiting...\n",
      "  Elapsed 30.88 s. Waiting...\n",
      "  Elapsed 32.11 s. Waiting...\n",
      "  Elapsed 33.32 s. Waiting...\n",
      "  Elapsed 34.53 s. Waiting...\n",
      "  Elapsed 35.76 s. Waiting...\n",
      "  Elapsed 36.97 s. Waiting...\n",
      "  Elapsed 38.19 s. Waiting...\n",
      "  Elapsed 39.41 s. Waiting...\n",
      "  Elapsed 40.62 s. Waiting...\n",
      "  Elapsed 41.85 s. Waiting...\n",
      "Query done.\n",
      "Processed: 924.6 MB Billed: 925.0 MB\n",
      "Standard price: $0.00 USD\n",
      "\n",
      "Retrieving results...\n",
      "Got 1110497 rows.\n",
      "\n",
      "Total time taken 1960.02 s.\n",
      "Finished at 2019-03-05 23:26:13.\n"
     ]
    }
   ],
   "source": [
    "import numpy as np\n",
    "import pandas as pd\n",
    "from sklearn.model_selection import train_test_split \n",
    "\n",
    "project =\"mcgillcapstone\"\n",
    "query = \"select * from `firemandb.compileddf`\"\n",
    "df = pd.read_gbq(query,project_id=project,dialect='standard')\n",
    "\n",
    "columns_to_parse = list(df.select_dtypes(include=['object']).columns)\n",
    "\n",
    "for cparse in columns_to_parse:\n",
    "  df[cparse] = pd.to_datetime(df[cparse])\n",
    "  \n",
    "for cparse in columns_to_parse:\n",
    "  #cday = 'day_{}'.format(cparse)\n",
    "  cmonth = 'month_{}'.format(cparse)\n",
    "  #cyear = 'year_{}'.format(cparse)\n",
    "  \n",
    "  #df[cday] = df[cparse].dt.day\n",
    "  df[cmonth] = df[cparse].dt.month\n",
    "  #df[cyear] = df[cparse].dt.year\n",
    "  \n",
    "df = df.drop(['EventDate','DateRange'],axis=1)\n",
    "\n",
    "\n"
   ]
  },
  {
   "cell_type": "code",
   "execution_count": 110,
   "metadata": {},
   "outputs": [
    {
     "name": "stdout",
     "output_type": "stream",
     "text": [
      "[(0, 'Incendie_de_batiments'), (1, 'IncendieBatiment_TrueFalse'), (2, 'IncendieBatiment_0_1'), (3, 'Sum_Autres_incendies'), (4, 'Sum_Incendie_de_batiments'), (5, 'Sum_Premier_Repondant'), (6, 'Sum_Sans_incendie'), (7, 'Sum_Crime'), (8, 'Sum_Alarmes_incendies'), (9, 'longitude'), (10, 'latitude'), (11, 'avg_age_population'), (12, 'couples_no_children'), (13, 'couples_yes_children'), (14, 'avg_size_private_households'), (15, 'single_detached_house'), (16, 'apartment_building_atleast_five_storeys'), (17, 'other_adjoining_housing'), (18, 'twin_house'), (19, 'twon_house'), (20, 'apt_duplex'), (21, 'apartment_building_less_five_storeys'), (22, 'other_single_attached_house'), (23, 'mobile_accomodation'), (24, 'avg_number_rooms_dwelling'), (25, 'before_1960'), (26, 'f1961_1980'), (27, 'f1981_1990'), (28, 'f1991_2000'), (29, 'f2001_2005'), (30, 'f2006_2010'), (31, 'f2011_2016'), (32, 'regular_maintenance_minor_repairs'), (33, 'major_repairs_needed'), (34, 'avg_price_dwelling'), (35, 'no_certificate_diploma_degree'), (36, 'high_school_certificate'), (37, 'yes_certificate_diploma_degree'), (38, 'population_2016'), (39, 'size_km2'), (40, 'density'), (41, 'total_population_age'), (42, 'private_households_households_size'), (43, 'f1_person'), (44, 'f2_people'), (45, 'f3_people'), (46, 'f4_people'), (47, 'f5_more_people'), (48, 'number_people_pvate_households'), (49, 'private_dwelling_occuped_type_dwelling'), (50, 'private_household_tenure'), (51, 'owner'), (52, 'tenant'), (53, 'occuped_private_dwelling_bedroom_qty'), (54, 'no_bedrooms'), (55, 'f1_bedroom'), (56, 'f2_bedrooms'), (57, 'f3_bedrooms'), (58, 'f4_bedrooms'), (59, 'occuped_private_dwelling_room_qty'), (60, 'f1_4parts'), (61, 'f5_pieces'), (62, 'f6_parts'), (63, 'f7_parts'), (64, 'f8_parts_more'), (65, 'occuped_private_dwelling_period_construction'), (66, 'occuped_private_dwelling_condition_construction'), (67, 'total_owner_households_private_ration_costincome_25p'), (68, 'less_30p_income_housing_cost'), (69, 'f30p_more_income_shousing_cost'), (70, 'median_monthly_cost_owner_occupied'), (71, 'avg_monthly_cost_owner_occupied'), (72, 'median_value_dwellings'), (73, 'population_private_household_immigrant_status'), (74, 'no_immigrants'), (75, 'immigrants'), (76, 'no_permanent_residents'), (77, 'immigration_population_age_immigration'), (78, 'less_5years'), (79, 'f5_14years'), (80, 'f15_24years'), (81, 'f25_44years'), (82, 'more45years'), (83, 'total_highest_certificate_popover15age_25p'), (84, 'total_transporation_commute_popover15age_25p'), (85, 'car_truck_van_driver'), (86, 'car_truck_van_passanger'), (87, 'public_transport'), (88, 'walk'), (89, 'bicycle'), (90, 'alternate'), (91, 'total_travel_between_work_popover15_overprivate_house_25p'), (92, 'less_15mins'), (93, 'f15_29mins'), (94, 'f30_44mins'), (95, 'f45_59mins'), (96, 'more60mins'), (97, 'f2015_incomestats'), (98, 'avg_total_income2015'), (99, 'median_total_income2015'), (100, 'avg_aftertax_household2015'), (101, 'median_aftertax_household2015'), (102, 'avg_totalincome_twomorepeople_2015'), (103, 'median_totalincome_twomorepeople_2015'), (104, 'avg_totalincome_2015_among_beneficiaries'), (105, 'median_totalincome_2015_among_beneficiaries'), (106, 'avg_empoloyment_income_among_beneficiaries_2015'), (107, 'median_empoloyment_income_among_beneficiaries_2015'), (108, 'month_EventDate'), (109, 'month_DateRange')]\n"
     ]
    }
   ],
   "source": [
    "print([i for i in enumerate(list(df.columns.values))])"
   ]
  },
  {
   "cell_type": "code",
   "execution_count": 81,
   "metadata": {},
   "outputs": [],
   "source": [
    "y = df['IncendieBatiment_TrueFalse']\n",
    "x = df.drop(['IncendieBatiment_TrueFalse','Incendie_de_batiments','IncendieBatiment_0_1','month_DateRange','longitude','latitude'], axis=1)"
   ]
  },
  {
   "cell_type": "code",
   "execution_count": 164,
   "metadata": {},
   "outputs": [
    {
     "name": "stderr",
     "output_type": "stream",
     "text": [
      "/usr/local/envs/py3env/lib/python3.5/site-packages/ipykernel/__main__.py:4: SettingWithCopyWarning: \n",
      "A value is trying to be set on a copy of a slice from a DataFrame.\n",
      "Try using .loc[row_indexer,col_indexer] = value instead\n",
      "\n",
      "See the caveats in the documentation: http://pandas.pydata.org/pandas-docs/stable/indexing.html#indexing-view-versus-copy\n"
     ]
    }
   ],
   "source": [
    "myx=df.iloc[: , list(range(0,11))+[11,12,13,14,15,16,17,18,19,20,21,22,23,25,26,27,28,29,30,31,32,33,34,40,41,43,44,45,46,47,60,61,62,63.64,72,98,100,108,109]]\n",
    "myx2=df.iloc[: , -1]\n",
    "myx2.describe()\n",
    "myx['month_DateRange']=myx2.values\n",
    "#myx.info"
   ]
  },
  {
   "cell_type": "code",
   "execution_count": null,
   "metadata": {},
   "outputs": [],
   "source": [
    "myx.info()"
   ]
  },
  {
   "cell_type": "code",
   "execution_count": 166,
   "metadata": {},
   "outputs": [],
   "source": [
    "y = myx['IncendieBatiment_TrueFalse']\n",
    "x = myx.drop(['IncendieBatiment_TrueFalse','Incendie_de_batiments','IncendieBatiment_0_1','month_DateRange'], axis=1) #,'longitude','latitude'"
   ]
  },
  {
   "cell_type": "code",
   "execution_count": 167,
   "metadata": {},
   "outputs": [],
   "source": [
    "\n",
    "\n",
    "X_train , X_test,y_train, y_test = train_test_split( \n",
    "            x, y , test_size=0.34, random_state= 165 )"
   ]
  },
  {
   "cell_type": "code",
   "execution_count": 183,
   "metadata": {},
   "outputs": [
    {
     "ename": "AttributeError",
     "evalue": "'Series' object has no attribute 'type'",
     "output_type": "error",
     "traceback": [
      "\u001b[0;31m---------------------------------------------------------------------------\u001b[0m",
      "\u001b[0;31mAttributeError\u001b[0m                            Traceback (most recent call last)",
      "\u001b[0;32m<ipython-input-183-f768a8d532cd>\u001b[0m in \u001b[0;36m<module>\u001b[0;34m()\u001b[0m\n\u001b[1;32m      1\u001b[0m \u001b[0mX_test\u001b[0m\u001b[0;34m[\u001b[0m\u001b[0;34m[\u001b[0m\u001b[0;34m'longitude'\u001b[0m\u001b[0;34m,\u001b[0m\u001b[0;34m'latitude'\u001b[0m\u001b[0;34m]\u001b[0m\u001b[0;34m]\u001b[0m\u001b[0;34m.\u001b[0m\u001b[0mgroupby\u001b[0m\u001b[0;34m(\u001b[0m\u001b[0;34m[\u001b[0m\u001b[0;34m'longitude'\u001b[0m\u001b[0;34m,\u001b[0m\u001b[0;34m'latitude'\u001b[0m\u001b[0;34m]\u001b[0m\u001b[0;34m)\u001b[0m\u001b[0;34m.\u001b[0m\u001b[0mcount\u001b[0m\u001b[0;34m(\u001b[0m\u001b[0;34m)\u001b[0m\u001b[0;34m\u001b[0m\u001b[0m\n\u001b[0;32m----> 2\u001b[0;31m \u001b[0my_test\u001b[0m\u001b[0;34m.\u001b[0m\u001b[0mtype\u001b[0m\u001b[0;34m\u001b[0m\u001b[0m\n\u001b[0m",
      "\u001b[0;32m/usr/local/envs/py3env/lib/python3.5/site-packages/pandas/core/generic.py\u001b[0m in \u001b[0;36m__getattr__\u001b[0;34m(self, name)\u001b[0m\n\u001b[1;32m   3612\u001b[0m             \u001b[0;32mif\u001b[0m \u001b[0mname\u001b[0m \u001b[0;32min\u001b[0m \u001b[0mself\u001b[0m\u001b[0;34m.\u001b[0m\u001b[0m_info_axis\u001b[0m\u001b[0;34m:\u001b[0m\u001b[0;34m\u001b[0m\u001b[0m\n\u001b[1;32m   3613\u001b[0m                 \u001b[0;32mreturn\u001b[0m \u001b[0mself\u001b[0m\u001b[0;34m[\u001b[0m\u001b[0mname\u001b[0m\u001b[0;34m]\u001b[0m\u001b[0;34m\u001b[0m\u001b[0m\n\u001b[0;32m-> 3614\u001b[0;31m             \u001b[0;32mreturn\u001b[0m \u001b[0mobject\u001b[0m\u001b[0;34m.\u001b[0m\u001b[0m__getattribute__\u001b[0m\u001b[0;34m(\u001b[0m\u001b[0mself\u001b[0m\u001b[0;34m,\u001b[0m \u001b[0mname\u001b[0m\u001b[0;34m)\u001b[0m\u001b[0;34m\u001b[0m\u001b[0m\n\u001b[0m\u001b[1;32m   3615\u001b[0m \u001b[0;34m\u001b[0m\u001b[0m\n\u001b[1;32m   3616\u001b[0m     \u001b[0;32mdef\u001b[0m \u001b[0m__setattr__\u001b[0m\u001b[0;34m(\u001b[0m\u001b[0mself\u001b[0m\u001b[0;34m,\u001b[0m \u001b[0mname\u001b[0m\u001b[0;34m,\u001b[0m \u001b[0mvalue\u001b[0m\u001b[0;34m)\u001b[0m\u001b[0;34m:\u001b[0m\u001b[0;34m\u001b[0m\u001b[0m\n",
      "\u001b[0;31mAttributeError\u001b[0m: 'Series' object has no attribute 'type'"
     ]
    }
   ],
   "source": [
    "X_test[['longitude','latitude']].groupby(['longitude','latitude']).count()\n",
    "y_test.type"
   ]
  },
  {
   "cell_type": "code",
   "execution_count": 162,
   "metadata": {},
   "outputs": [
    {
     "data": {
      "text/plain": [
       "array([[370798,   2626],\n",
       "       [  2640,   1505]])"
      ]
     },
     "execution_count": 162,
     "metadata": {},
     "output_type": "execute_result"
    }
   ],
   "source": [
    "from sklearn.tree import DecisionTreeClassifier\n",
    "dtree = DecisionTreeClassifier(max_depth=60,random_state=167)\n",
    "dtree.fit(X_train,y_train)\n",
    "from sklearn.metrics import confusion_matrix\n",
    "y_pred = dtree.predict(X_test)\n",
    "confusion_matrix(y_test, y_pred)"
   ]
  },
  {
   "cell_type": "code",
   "execution_count": 163,
   "metadata": {},
   "outputs": [
    {
     "name": "stdout",
     "output_type": "stream",
     "text": [
      "Recall:0.363\n",
      "Precision:0.364\n",
      "f1:0.364\n",
      "kappa:0.357\n",
      "[[370798   2626]\n",
      " [  2640   1505]]\n"
     ]
    }
   ],
   "source": [
    "from sklearn.metrics import recall_score, precision_score, f1_score, cohen_kappa_score\n",
    "print('Recall:{0:0.3f}'.format(recall_score(y_test,y_pred)))\n",
    "print('Precision:{0:0.3f}'.format(precision_score(y_test,y_pred)))\n",
    "print('f1:{0:0.3f}'.format(f1_score(y_test,y_pred)))\n",
    "print('kappa:{0:0.3f}'.format(cohen_kappa_score(y_test,y_pred)))\n",
    "print(confusion_matrix(y_test, y_pred))"
   ]
  },
  {
   "cell_type": "code",
   "execution_count": 142,
   "metadata": {},
   "outputs": [
    {
     "data": {
      "text/plain": [
       "array([[372311,   1113],\n",
       "       [  3231,    914]])"
      ]
     },
     "execution_count": 142,
     "metadata": {},
     "output_type": "execute_result"
    }
   ],
   "source": [
    "#randomforest\n",
    "from sklearn.ensemble import RandomForestClassifier\n",
    "rf = RandomForestClassifier(n_estimators=100, random_state=1,max_depth=40)\n",
    "rf.fit(X_train, y_train)\n",
    "y_pred = rf.predict(X_test)\n",
    "confusion_matrix(y_test, y_pred)"
   ]
  },
  {
   "cell_type": "code",
   "execution_count": 88,
   "metadata": {},
   "outputs": [
    {
     "name": "stdout",
     "output_type": "stream",
     "text": [
      "Recall:0.195\n",
      "Precision:0.421\n",
      "f1:0.267\n",
      "[[361372   1077]\n",
      " [  3232    784]]\n"
     ]
    }
   ],
   "source": [
    "from sklearn.metrics import recall_score, precision_score, f1_score\n",
    "print('Recall:{0:0.3f}'.format(recall_score(y_test,y_pred)))\n",
    "print('Precision:{0:0.3f}'.format(precision_score(y_test,y_pred)))\n",
    "print('f1:{0:0.3f}'.format(f1_score(y_test,y_pred)))\n",
    "print(confusion_matrix(y_test, y_pred))"
   ]
  },
  {
   "cell_type": "code",
   "execution_count": 13,
   "metadata": {},
   "outputs": [
    {
     "data": {
      "text/plain": [
       "array([[360236,   2260],\n",
       "       [  2663,   1306]])"
      ]
     },
     "execution_count": 13,
     "metadata": {},
     "output_type": "execute_result"
    }
   ],
   "source": [
    "from sklearn import tree\n",
    "from sklearn.metrics import accuracy_score, confusion_matrix\n",
    "\n",
    "clf = tree.DecisionTreeClassifier(criterion ='gini', random_state = 100,\n",
    "                               max_depth=60, min_samples_leaf=3 )\n",
    "\n",
    "\n",
    "clf = clf.fit(X_train,y_train)\n",
    "\n",
    "\n",
    "y_pred = clf.predict(X_test)\n",
    "\n",
    "# # confusion matrix\n",
    "matrix = confusion_matrix(y_test,y_pred)\n",
    "confusion_matrix(y_test,y_pred)"
   ]
  },
  {
   "cell_type": "code",
   "execution_count": 14,
   "metadata": {},
   "outputs": [
    {
     "name": "stdout",
     "output_type": "stream",
     "text": [
      "Average precision-recall score: 0.13\n"
     ]
    }
   ],
   "source": [
    "from sklearn.metrics import average_precision_score\n",
    "\n",
    "average_precision = average_precision_score(y_test, y_pred)\n",
    "\n",
    "print('Average precision-recall score: {0:0.2f}'.format(\n",
    "      average_precision))"
   ]
  },
  {
   "cell_type": "code",
   "execution_count": 89,
   "metadata": {},
   "outputs": [
    {
     "name": "stderr",
     "output_type": "stream",
     "text": [
      "/usr/local/envs/py3env/lib/python3.5/site-packages/matplotlib/font_manager.py:1320: UserWarning: findfont: Font family ['sans-serif'] not found. Falling back to DejaVu Sans\n",
      "  (prop.get_family(), self.defaultFamily[fontext]))\n"
     ]
    },
    {
     "data": {
      "image/png": "[encoded data removed]",
      "text/plain": [
       "<matplotlib.figure.Figure at 0x7f0f3e838c88>"
      ]
     },
     "metadata": {},
     "output_type": "display_data"
    }
   ],
   "source": [
    "dataframe = pd.DataFrame(matrix,index=['yes','no'], columns=['yes','no'])\n",
    "import matplotlib.pyplot as plt\n",
    "import seaborn as sns\n",
    "\n",
    "sns.heatmap(dataframe, annot=True, cbar=None, cmap=\"Blues\")\n",
    "plt.title(\"Confusion Matrix\"),plt.tight_layout()\n",
    "plt.ylabel(\"True Class\"), plt.xlabel(\"Predicted Class\")\n",
    "plt.show()"
   ]
  },
  {
   "cell_type": "code",
   "execution_count": 16,
   "metadata": {},
   "outputs": [],
   "source": []
  },
  {
   "cell_type": "code",
   "execution_count": null,
   "metadata": {},
   "outputs": [],
   "source": []
  },
  {
   "cell_type": "code",
   "execution_count": null,
   "metadata": {},
   "outputs": [],
   "source": []
  },
  {
   "cell_type": "code",
   "execution_count": null,
   "metadata": {},
   "outputs": [],
   "source": []
  },
  {
   "cell_type": "code",
   "execution_count": null,
   "metadata": {},
   "outputs": [],
   "source": [
    "\n",
    "  "
   ]
  },
  {
   "cell_type": "code",
   "execution_count": 150,
   "metadata": {},
   "outputs": [
    {
     "data": {
      "text/plain": [
       "(1110497, 44)"
      ]
     },
     "execution_count": 150,
     "metadata": {},
     "output_type": "execute_result"
    }
   ],
   "source": [
    "x.shape"
   ]
  },
  {
   "cell_type": "markdown",
   "metadata": {},
   "source": [
    "Here I will try XG Boost\n",
    "\n"
   ]
  },
  {
   "cell_type": "code",
   "execution_count": 153,
   "metadata": {},
   "outputs": [],
   "source": [
    "from xgboost import XGBClassifier"
   ]
  },
  {
   "cell_type": "code",
   "execution_count": 154,
   "metadata": {},
   "outputs": [
    {
     "data": {
      "text/plain": [
       "XGBClassifier(base_score=0.5, colsample_bylevel=1, colsample_bytree=1,\n",
       "       gamma=0, learning_rate=0.1, max_delta_step=0, max_depth=3,\n",
       "       min_child_weight=1, missing=None, n_estimators=100, nthread=-1,\n",
       "       objective='binary:logistic', reg_alpha=0, reg_lambda=1,\n",
       "       scale_pos_weight=1, seed=0, silent=True, subsample=1)"
      ]
     },
     "execution_count": 154,
     "metadata": {},
     "output_type": "execute_result"
    }
   ],
   "source": [
    "# fit model no training data\n",
    "model = XGBClassifier()\n",
    "model.fit(X_train, y_train)\n"
   ]
  },
  {
   "cell_type": "code",
   "execution_count": 155,
   "metadata": {},
   "outputs": [
    {
     "name": "stdout",
     "output_type": "stream",
     "text": [
      "XGBClassifier(base_score=0.5, colsample_bylevel=1, colsample_bytree=1,\n",
      "       gamma=0, learning_rate=0.1, max_delta_step=0, max_depth=3,\n",
      "       min_child_weight=1, missing=None, n_estimators=100, nthread=-1,\n",
      "       objective='binary:logistic', reg_alpha=0, reg_lambda=1,\n",
      "       scale_pos_weight=1, seed=0, silent=True, subsample=1)\n"
     ]
    }
   ],
   "source": [
    "print(model)"
   ]
  },
  {
   "cell_type": "code",
   "execution_count": 156,
   "metadata": {},
   "outputs": [
    {
     "name": "stderr",
     "output_type": "stream",
     "text": [
      "/usr/local/envs/py3env/lib/python3.5/site-packages/sklearn/preprocessing/label.py:151: DeprecationWarning: The truth value of an empty array is ambiguous. Returning False, but in future this will result in an error. Use `array.size > 0` to check that an array is not empty.\n",
      "  if diff:\n"
     ]
    },
    {
     "name": "stdout",
     "output_type": "stream",
     "text": [
      "Accuracy: 99.09%\n"
     ]
    }
   ],
   "source": [
    "\n",
    "from sklearn.metrics import accuracy_score\n",
    "y_pred = model.predict(X_test)\n",
    "predictions = [round(value) for value in y_pred]\n",
    "# evaluate predictions\n",
    "accuracy = accuracy_score(y_test, predictions)\n",
    "print(\"Accuracy: %.2f%%\" % (accuracy * 100.0))"
   ]
  },
  {
   "cell_type": "code",
   "execution_count": null,
   "metadata": {},
   "outputs": [],
   "source": []
  },
  {
   "cell_type": "code",
   "execution_count": 161,
   "metadata": {},
   "outputs": [
    {
     "name": "stdout",
     "output_type": "stream",
     "text": [
      "Recall:0.243\n",
      "Precision:0.762\n",
      "f1:0.368\n",
      "kappa:0.365\n",
      "[[373109    315]\n",
      " [  3139   1006]]\n"
     ]
    }
   ],
   "source": [
    "from sklearn.metrics import recall_score, precision_score, f1_score, cohen_kappa_score\n",
    "print('Recall:{0:0.3f}'.format(recall_score(y_test,y_pred)))\n",
    "print('Precision:{0:0.3f}'.format(precision_score(y_test,y_pred)))\n",
    "print('f1:{0:0.3f}'.format(f1_score(y_test,y_pred)))\n",
    "print('kappa:{0:0.3f}'.format(cohen_kappa_score(y_test,y_pred)))\n",
    "print(confusion_matrix(y_test, y_pred))"
   ]
  },
  {
   "cell_type": "code",
   "execution_count": 173,
   "metadata": {},
   "outputs": [
    {
     "name": "stdout",
     "output_type": "stream",
     "text": [
      "CommandException: No URLs matched: ProjectML.ipynb\r\n"
     ]
    }
   ],
   "source": [
    "!gsutil cp ProjectML.ipynb gs://projectcsv/MyFirstModel.ipynb"
   ]
  },
  {
   "cell_type": "code",
   "execution_count": null,
   "metadata": {},
   "outputs": [],
   "source": []
  }
 ],
 "metadata": {
  "kernelspec": {
   "display_name": "Python 3",
   "language": "python",
   "name": "python3"
  },
  "language_info": {
   "codemirror_mode": {
    "name": "ipython",
    "version": 3
   },
   "file_extension": ".py",
   "mimetype": "text/x-python",
   "name": "python",
   "nbconvert_exporter": "python",
   "pygments_lexer": "ipython3",
   "version": "3.5.6"
  }
 },
 "nbformat": 4,
 "nbformat_minor": 2
}
