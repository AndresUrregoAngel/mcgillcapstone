{
 "cells": [
  {
   "cell_type": "code",
   "execution_count": null,
   "metadata": {},
   "outputs": [
    {
     "name": "stdout",
     "output_type": "stream",
     "text": [
      "Requesting query... ok.\n",
      "Job ID: 734528e2-d0da-4fe9-a66e-a0cf3c75187f\n",
      "Query running...\n",
      "Query done.\n",
      "Cache hit.\n",
      "\n",
      "Retrieving results...\n"
     ]
    }
   ],
   "source": [
    "import numpy as np\n",
    "import pandas as pd\n",
    "from sklearn.model_selection import train_test_split \n",
    "\n",
    "project =\"mcgillcapstone\"\n",
    "query = \"select * from `firemandb.compiledfull` limit 100000\"\n",
    "df = pd.read_gbq(query,project_id=project,dialect='standard')\n",
    "\n",
    "columns_to_parse = list(df.select_dtypes(include=['object']).columns)\n",
    "\n",
    "for cparse in columns_to_parse:\n",
    "  df[cparse] = pd.to_datetime(df[cparse])\n",
    "  \n",
    "for cparse in columns_to_parse:\n",
    "  cday = 'day_{}'.format(cparse)\n",
    "  cmonth = 'month_{}'.format(cparse)\n",
    "  cyear = 'year_{}'.format(cparse)\n",
    "  \n",
    "  df[cday] = df[cparse].dt.day\n",
    "  df[cmonth] = df[cparse].dt.month\n",
    "  df[cyear] = df[cparse].dt.year\n",
    "  \n",
    "df = df.drop(['EventDate','DateRange'],axis=1)\n",
    "  \n",
    "\n",
    "y = df['IncendieBatiment_TrueFalse']\n",
    "x = df.drop(['IncendieBatiment_TrueFalse'], axis=1)\n",
    "\n",
    "X_train , X_test,y_train, y_test = train_test_split( \n",
    "            x, y , test_size=0.33, random_state= 42 )\n",
    "\n"
   ]
  },
  {
   "cell_type": "code",
   "execution_count": 9,
   "metadata": {},
   "outputs": [],
   "source": [
    "from sklearn import tree\n",
    "from sklearn.metrics import accuracy_score, confusion_matrix\n",
    "\n",
    "clf = tree.DecisionTreeClassifier(criterion = \"entropy\", random_state = 100,\n",
    "                               max_depth=2, min_samples_leaf=3 )\n",
    "\n",
    "\n",
    "clf = clf.fit(X_train,y_train)\n",
    "\n",
    "\n",
    "y_pred = clf.predict(X_test)\n",
    "\n",
    "# # confusion matrix\n",
    "matrix = confusion_matrix(y_test,y_pred)\n",
    "dataframe = pd.DataFrame(matrix,index=['yes','no'], columns=['yes','no'])"
   ]
  },
  {
   "cell_type": "code",
   "execution_count": 13,
   "metadata": {},
   "outputs": [
    {
     "name": "stderr",
     "output_type": "stream",
     "text": [
      "/usr/local/envs/py3env/lib/python3.5/site-packages/matplotlib/font_manager.py:1320: UserWarning: findfont: Font family ['sans-serif'] not found. Falling back to DejaVu Sans\n",
      "  (prop.get_family(), self.defaultFamily[fontext]))\n"
     ]
    },
    {
     "data": {
      "image/png": "[encoded data removed]",
      "text/plain": [
       "<matplotlib.figure.Figure at 0x7fe591bc6d68>"
      ]
     },
     "metadata": {},
     "output_type": "display_data"
    }
   ],
   "source": [
    "import matplotlib.pyplot as plt\n",
    "import seaborn as sns\n",
    "\n",
    "sns.heatmap(dataframe, annot=True, cbar=None, cmap=\"Blues\")\n",
    "plt.title(\"Confusion Matrix\"),plt.tight_layout()\n",
    "plt.ylabel(\"True Class\"), plt.xlabel(\"Predicted Class\")\n",
    "plt.show()"
   ]
  },
  {
   "cell_type": "code",
   "execution_count": 14,
   "metadata": {},
   "outputs": [
    {
     "name": "stdout",
     "output_type": "stream",
     "text": [
      "Average precision-recall score: 1.00\n"
     ]
    }
   ],
   "source": [
    "from sklearn.metrics import average_precision_score\n",
    "\n",
    "average_precision = average_precision_score(y_test, y_pred)\n",
    "\n",
    "print('Average precision-recall score: {0:0.2f}'.format(\n",
    "      average_precision))"
   ]
  },
  {
   "cell_type": "code",
   "execution_count": 6,
   "metadata": {
    "hiddenCell": true
   },
   "outputs": [
    {
     "name": "stdout",
     "output_type": "stream",
     "text": [
      "current accuracy score:100.0\n"
     ]
    }
   ],
   "source": [
    "print(\"current accuracy score:{}\".format( accuracy_score(y_test,y_pred)*100))"
   ]
  },
  {
   "cell_type": "code",
   "execution_count": null,
   "metadata": {},
   "outputs": [],
   "source": [
    "#!gsutil cp compiledfullfixed.csv gs://projectcsv/compiledfullfixed.parquet.gzip\n",
    "!gsutil cp ProjectML.ipynb gs://projectcsv/ProjectML.ipynb"
   ]
  }
 ],
 "metadata": {
  "kernelspec": {
   "display_name": "Python 3",
   "language": "python",
   "name": "python3"
  },
  "language_info": {
   "codemirror_mode": {
    "name": "ipython",
    "version": 3
   },
   "file_extension": ".py",
   "mimetype": "text/x-python",
   "name": "python",
   "nbconvert_exporter": "python",
   "pygments_lexer": "ipython3",
   "version": "3.5.6"
  }
 },
 "nbformat": 4,
 "nbformat_minor": 2
}
