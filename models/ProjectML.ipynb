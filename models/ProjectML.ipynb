{
 "cells": [
  {
   "cell_type": "code",
   "execution_count": 65,
   "metadata": {},
   "outputs": [
    {
     "name": "stdout",
     "output_type": "stream",
     "text": [
      "Requesting query... ok.\n",
      "Job ID: 21fb9b7e-4f39-4599-b2b2-8e9cda50309c\n",
      "Query running...\n",
      "Query done.\n",
      "Cache hit.\n",
      "\n",
      "Retrieving results...\n",
      "Got 10000 rows.\n",
      "\n",
      "Total time taken 203.55 s.\n",
      "Finished at 2019-03-05 01:08:54.\n"
     ]
    }
   ],
   "source": [
    "import numpy as np\n",
    "import pandas as pd\n",
    "from sklearn.model_selection import train_test_split \n",
    "\n",
    "project =\"mcgillcapstone\"\n",
    "query = \"select * from `firemandb.compiledfull` limit 10000\"\n",
    "df = pd.read_gbq(query,project_id=project,dialect='standard')\n",
    "\n",
    "columns_to_parse = list(df.select_dtypes(include=['object']).columns)\n",
    "\n",
    "for cparse in columns_to_parse:\n",
    "  df[cparse] = pd.to_datetime(df[cparse])\n",
    "  \n",
    "for cparse in columns_to_parse:\n",
    "  cday = 'day_{}'.format(cparse)\n",
    "  cmonth = 'month_{}'.format(cparse)\n",
    "  cyear = 'year_{}'.format(cparse)\n",
    "  \n",
    "  df[cday] = df[cparse].dt.day\n",
    "  df[cmonth] = df[cparse].dt.month\n",
    "  df[cyear] = df[cparse].dt.year\n",
    "  \n",
    "df = df.drop(['EventDate','DateRange'],axis=1)\n",
    "  \n",
    "\n",
    "y = df['IncendieBatiment_TrueFalse']\n",
    "x = df.drop(['IncendieBatiment_TrueFalse'], axis=1)\n",
    "\n",
    "X_train , X_test,y_train, y_test = train_test_split( \n",
    "            x, y , test_size=0.33, random_state= 42 )\n",
    "\n"
   ]
  },
  {
   "cell_type": "code",
   "execution_count": 69,
   "metadata": {},
   "outputs": [],
   "source": [
    "from sklearn import tree\n",
    "from sklearn.metrics import accuracy_score\n",
    "\n",
    "clf = tree.DecisionTreeClassifier(criterion = \"gini\", random_state = 100,\n",
    "                               max_depth=2, min_samples_leaf=5 )\n",
    "\n",
    "\n",
    "clf = clf.fit(X_train,y_train)\n",
    "\n",
    "\n",
    "y_pred = clf.predict(X_test)"
   ]
  },
  {
   "cell_type": "code",
   "execution_count": 71,
   "metadata": {
    "hiddenCell": true
   },
   "outputs": [
    {
     "name": "stdout",
     "output_type": "stream",
     "text": [
      "current accuracy score:100.0\n"
     ]
    }
   ],
   "source": [
    "print(\"current accuracy score:{}\".format( accuracy_score(y_test,y_pred)*100))"
   ]
  },
  {
   "cell_type": "code",
   "execution_count": null,
   "metadata": {},
   "outputs": [],
   "source": [
    "#!gsutil cp compiledfullfixed.csv gs://projectcsv/compiledfullfixed.parquet.gzip\n",
    "!gsutil cp ProjectML.ipynb gs://projectcsv/ProjectML.ipynb"
   ]
  }
 ],
 "metadata": {
  "kernelspec": {
   "display_name": "Python 3",
   "language": "python",
   "name": "python3"
  },
  "language_info": {
   "codemirror_mode": {
    "name": "ipython",
    "version": 3
   },
   "file_extension": ".py",
   "mimetype": "text/x-python",
   "name": "python",
   "nbconvert_exporter": "python",
   "pygments_lexer": "ipython3",
   "version": "3.5.6"
  }
 },
 "nbformat": 4,
 "nbformat_minor": 2
}
