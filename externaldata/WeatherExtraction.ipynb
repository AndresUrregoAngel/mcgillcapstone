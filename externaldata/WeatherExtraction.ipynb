{
 "cells": [
  {
   "cell_type": "code",
   "execution_count": 1,
   "metadata": {},
   "outputs": [
    {
     "name": "stdout",
     "output_type": "stream",
     "text": [
      "Requirement already up-to-date: pandas-gbq in /usr/local/envs/py3env/lib/python3.5/site-packages (0.9.0)\n",
      "Requirement already satisfied, skipping upgrade: google-auth-oauthlib in /usr/local/envs/py3env/lib/python3.5/site-packages (from pandas-gbq) (0.1.0)\n",
      "Requirement already satisfied, skipping upgrade: setuptools in /usr/local/envs/py3env/lib/python3.5/site-packages (from pandas-gbq) (40.2.0)\n",
      "Requirement already satisfied, skipping upgrade: pydata-google-auth in /usr/local/envs/py3env/lib/python3.5/site-packages (from pandas-gbq) (0.1.2)\n",
      "Requirement already satisfied, skipping upgrade: pandas in /usr/local/envs/py3env/lib/python3.5/site-packages (from pandas-gbq) (0.22.0)\n",
      "Requirement already satisfied, skipping upgrade: google-cloud-bigquery>=0.32.0 in /usr/local/envs/py3env/lib/python3.5/site-packages (from pandas-gbq) (1.8.1)\n",
      "Requirement already satisfied, skipping upgrade: google-auth in /usr/local/envs/py3env/lib/python3.5/site-packages (from pandas-gbq) (1.6.2)\n",
      "Requirement already satisfied, skipping upgrade: requests-oauthlib>=0.7.0 in /usr/local/envs/py3env/lib/python3.5/site-packages (from google-auth-oauthlib->pandas-gbq) (0.8.0)\n",
      "Requirement already satisfied, skipping upgrade: python-dateutil>=2 in /usr/local/envs/py3env/lib/python3.5/site-packages (from pandas->pandas-gbq) (2.5.0)\n",
      "Requirement already satisfied, skipping upgrade: pytz>=2011k in /usr/local/envs/py3env/lib/python3.5/site-packages (from pandas->pandas-gbq) (2018.4)\n",
      "Requirement already satisfied, skipping upgrade: numpy>=1.9.0 in /usr/local/envs/py3env/lib/python3.5/site-packages (from pandas->pandas-gbq) (1.14.0)\n",
      "Requirement already satisfied, skipping upgrade: google-resumable-media>=0.3.1 in /usr/local/envs/py3env/lib/python3.5/site-packages (from google-cloud-bigquery>=0.32.0->pandas-gbq) (0.3.2)\n",
      "Requirement already satisfied, skipping upgrade: google-api-core<2.0.0dev,>=1.6.0 in /usr/local/envs/py3env/lib/python3.5/site-packages (from google-cloud-bigquery>=0.32.0->pandas-gbq) (1.7.0)\n",
      "Requirement already satisfied, skipping upgrade: google-cloud-core<0.30dev,>=0.29.0 in /usr/local/envs/py3env/lib/python3.5/site-packages (from google-cloud-bigquery>=0.32.0->pandas-gbq) (0.29.1)\n",
      "Requirement already satisfied, skipping upgrade: six>=1.9.0 in /usr/local/envs/py3env/lib/python3.5/site-packages (from google-auth->pandas-gbq) (1.10.0)\n",
      "Requirement already satisfied, skipping upgrade: pyasn1-modules>=0.2.1 in /usr/local/envs/py3env/lib/python3.5/site-packages (from google-auth->pandas-gbq) (0.2.2)\n",
      "Requirement already satisfied, skipping upgrade: cachetools>=2.0.0 in /usr/local/envs/py3env/lib/python3.5/site-packages (from google-auth->pandas-gbq) (2.1.0)\n",
      "Requirement already satisfied, skipping upgrade: rsa>=3.1.4 in /usr/local/envs/py3env/lib/python3.5/site-packages (from google-auth->pandas-gbq) (3.4.2)\n",
      "Requirement already satisfied, skipping upgrade: oauthlib>=0.6.2 in /usr/local/envs/py3env/lib/python3.5/site-packages (from requests-oauthlib>=0.7.0->google-auth-oauthlib->pandas-gbq) (2.1.0)\n",
      "Requirement already satisfied, skipping upgrade: requests>=2.0.0 in /usr/local/envs/py3env/lib/python3.5/site-packages (from requests-oauthlib>=0.7.0->google-auth-oauthlib->pandas-gbq) (2.18.4)\n",
      "Requirement already satisfied, skipping upgrade: protobuf>=3.4.0 in /usr/local/envs/py3env/lib/python3.5/site-packages (from google-api-core<2.0.0dev,>=1.6.0->google-cloud-bigquery>=0.32.0->pandas-gbq) (3.6.1)\n",
      "Requirement already satisfied, skipping upgrade: googleapis-common-protos!=1.5.4,<2.0dev,>=1.5.3 in /usr/local/envs/py3env/lib/python3.5/site-packages (from google-api-core<2.0.0dev,>=1.6.0->google-cloud-bigquery>=0.32.0->pandas-gbq) (1.5.5)\n",
      "Requirement already satisfied, skipping upgrade: pyasn1<0.5.0,>=0.4.1 in /usr/local/envs/py3env/lib/python3.5/site-packages (from pyasn1-modules>=0.2.1->google-auth->pandas-gbq) (0.4.4)\n",
      "Requirement already satisfied, skipping upgrade: chardet<3.1.0,>=3.0.2 in /usr/local/envs/py3env/lib/python3.5/site-packages (from requests>=2.0.0->requests-oauthlib>=0.7.0->google-auth-oauthlib->pandas-gbq) (3.0.4)\n",
      "Requirement already satisfied, skipping upgrade: idna<2.7,>=2.5 in /usr/local/envs/py3env/lib/python3.5/site-packages (from requests>=2.0.0->requests-oauthlib>=0.7.0->google-auth-oauthlib->pandas-gbq) (2.6)\n",
      "Requirement already satisfied, skipping upgrade: urllib3<1.23,>=1.21.1 in /usr/local/envs/py3env/lib/python3.5/site-packages (from requests>=2.0.0->requests-oauthlib>=0.7.0->google-auth-oauthlib->pandas-gbq) (1.22)\n",
      "Requirement already satisfied, skipping upgrade: certifi>=2017.4.17 in /usr/local/envs/py3env/lib/python3.5/site-packages (from requests>=2.0.0->requests-oauthlib>=0.7.0->google-auth-oauthlib->pandas-gbq) (2018.8.24)\n",
      "Requirement already satisfied: pandas in /usr/local/envs/py3env/lib/python3.5/site-packages (0.22.0)\n",
      "Requirement already satisfied: python-dateutil>=2 in /usr/local/envs/py3env/lib/python3.5/site-packages (from pandas) (2.5.0)\n",
      "Requirement already satisfied: pytz>=2011k in /usr/local/envs/py3env/lib/python3.5/site-packages (from pandas) (2018.4)\n",
      "Requirement already satisfied: numpy>=1.9.0 in /usr/local/envs/py3env/lib/python3.5/site-packages (from pandas) (1.14.0)\n",
      "Requirement already satisfied: six>=1.5 in /usr/local/envs/py3env/lib/python3.5/site-packages (from python-dateutil>=2->pandas) (1.10.0)\n",
      "Requirement already satisfied: pandasql in /usr/local/envs/py3env/lib/python3.5/site-packages (0.7.3)\n",
      "Requirement already satisfied: sqlalchemy in /usr/local/envs/py3env/lib/python3.5/site-packages (from pandasql) (1.2.16)\n",
      "Requirement already satisfied: numpy in /usr/local/envs/py3env/lib/python3.5/site-packages (from pandasql) (1.14.0)\n",
      "Requirement already satisfied: pandas in /usr/local/envs/py3env/lib/python3.5/site-packages (from pandasql) (0.22.0)\n",
      "Requirement already satisfied: python-dateutil>=2 in /usr/local/envs/py3env/lib/python3.5/site-packages (from pandas->pandasql) (2.5.0)\n",
      "Requirement already satisfied: pytz>=2011k in /usr/local/envs/py3env/lib/python3.5/site-packages (from pandas->pandasql) (2018.4)\n",
      "Requirement already satisfied: six>=1.5 in /usr/local/envs/py3env/lib/python3.5/site-packages (from python-dateutil>=2->pandas->pandasql) (1.10.0)\n",
      "Requirement already up-to-date: google-cloud-bigquery in /usr/local/envs/py3env/lib/python3.5/site-packages (1.8.1)\n",
      "Requirement already satisfied, skipping upgrade: google-api-core<2.0.0dev,>=1.6.0 in /usr/local/envs/py3env/lib/python3.5/site-packages (from google-cloud-bigquery) (1.7.0)\n",
      "Requirement already satisfied, skipping upgrade: google-resumable-media>=0.3.1 in /usr/local/envs/py3env/lib/python3.5/site-packages (from google-cloud-bigquery) (0.3.2)\n",
      "Requirement already satisfied, skipping upgrade: google-cloud-core<0.30dev,>=0.29.0 in /usr/local/envs/py3env/lib/python3.5/site-packages (from google-cloud-bigquery) (0.29.1)\n",
      "Requirement already satisfied, skipping upgrade: setuptools>=34.0.0 in /usr/local/envs/py3env/lib/python3.5/site-packages (from google-api-core<2.0.0dev,>=1.6.0->google-cloud-bigquery) (40.2.0)\n",
      "Requirement already satisfied, skipping upgrade: google-auth<2.0dev,>=0.4.0 in /usr/local/envs/py3env/lib/python3.5/site-packages (from google-api-core<2.0.0dev,>=1.6.0->google-cloud-bigquery) (1.6.2)\n",
      "Requirement already satisfied, skipping upgrade: six>=1.10.0 in /usr/local/envs/py3env/lib/python3.5/site-packages (from google-api-core<2.0.0dev,>=1.6.0->google-cloud-bigquery) (1.10.0)\n",
      "Requirement already satisfied, skipping upgrade: googleapis-common-protos!=1.5.4,<2.0dev,>=1.5.3 in /usr/local/envs/py3env/lib/python3.5/site-packages (from google-api-core<2.0.0dev,>=1.6.0->google-cloud-bigquery) (1.5.5)\n",
      "Requirement already satisfied, skipping upgrade: protobuf>=3.4.0 in /usr/local/envs/py3env/lib/python3.5/site-packages (from google-api-core<2.0.0dev,>=1.6.0->google-cloud-bigquery) (3.6.1)\n",
      "Requirement already satisfied, skipping upgrade: requests<3.0.0dev,>=2.18.0 in /usr/local/envs/py3env/lib/python3.5/site-packages (from google-api-core<2.0.0dev,>=1.6.0->google-cloud-bigquery) (2.18.4)\n",
      "Requirement already satisfied, skipping upgrade: pytz in /usr/local/envs/py3env/lib/python3.5/site-packages (from google-api-core<2.0.0dev,>=1.6.0->google-cloud-bigquery) (2018.4)\n",
      "Requirement already satisfied, skipping upgrade: rsa>=3.1.4 in /usr/local/envs/py3env/lib/python3.5/site-packages (from google-auth<2.0dev,>=0.4.0->google-api-core<2.0.0dev,>=1.6.0->google-cloud-bigquery) (3.4.2)\n",
      "Requirement already satisfied, skipping upgrade: pyasn1-modules>=0.2.1 in /usr/local/envs/py3env/lib/python3.5/site-packages (from google-auth<2.0dev,>=0.4.0->google-api-core<2.0.0dev,>=1.6.0->google-cloud-bigquery) (0.2.2)\n",
      "Requirement already satisfied, skipping upgrade: cachetools>=2.0.0 in /usr/local/envs/py3env/lib/python3.5/site-packages (from google-auth<2.0dev,>=0.4.0->google-api-core<2.0.0dev,>=1.6.0->google-cloud-bigquery) (2.1.0)\n",
      "Requirement already satisfied, skipping upgrade: chardet<3.1.0,>=3.0.2 in /usr/local/envs/py3env/lib/python3.5/site-packages (from requests<3.0.0dev,>=2.18.0->google-api-core<2.0.0dev,>=1.6.0->google-cloud-bigquery) (3.0.4)\n",
      "Requirement already satisfied, skipping upgrade: idna<2.7,>=2.5 in /usr/local/envs/py3env/lib/python3.5/site-packages (from requests<3.0.0dev,>=2.18.0->google-api-core<2.0.0dev,>=1.6.0->google-cloud-bigquery) (2.6)\n",
      "Requirement already satisfied, skipping upgrade: urllib3<1.23,>=1.21.1 in /usr/local/envs/py3env/lib/python3.5/site-packages (from requests<3.0.0dev,>=2.18.0->google-api-core<2.0.0dev,>=1.6.0->google-cloud-bigquery) (1.22)\n",
      "Requirement already satisfied, skipping upgrade: certifi>=2017.4.17 in /usr/local/envs/py3env/lib/python3.5/site-packages (from requests<3.0.0dev,>=2.18.0->google-api-core<2.0.0dev,>=1.6.0->google-cloud-bigquery) (2018.8.24)\n",
      "Requirement already satisfied, skipping upgrade: pyasn1>=0.1.3 in /usr/local/envs/py3env/lib/python3.5/site-packages (from rsa>=3.1.4->google-auth<2.0dev,>=0.4.0->google-api-core<2.0.0dev,>=1.6.0->google-cloud-bigquery) (0.4.4)\n"
     ]
    }
   ],
   "source": [
    "!pip3 install pandas-gbq -U\n",
    "!pip3 install pandas\n",
    "!pip3 install pandasql\n",
    "!pip3 install google-cloud-bigquery --upgrade\n",
    "#!pip3 install google-cloud-python"
   ]
  },
  {
   "cell_type": "code",
   "execution_count": 2,
   "metadata": {},
   "outputs": [
    {
     "name": "stdout",
     "output_type": "stream",
     "text": [
      "the query for the year 2005 has been completed successfully\n",
      "the query for the year 2006 has been completed successfully\n",
      "the query for the year 2007 has been completed successfully\n",
      "the query for the year 2008 has been completed successfully\n",
      "the query for the year 2009 has been completed successfully\n",
      "the query for the year 2010 has been completed successfully\n",
      "the query for the year 2011 has been completed successfully\n",
      "the query for the year 2012 has been completed successfully\n",
      "the query for the year 2013 has been completed successfully\n",
      "the query for the year 2014 has been completed successfully\n",
      "the query for the year 2015 has been completed successfully\n",
      "the query for the year 2016 has been completed successfully\n",
      "the query for the year 2017 has been completed successfully\n",
      "the query for the year 2018 has been completed successfully\n"
     ]
    }
   ],
   "source": [
    "from datalab.context import Context\n",
    "import datalab.storage as storage\n",
    "import datalab.bigquery as bq\n",
    "import pandas as pd\n",
    "\n",
    "\n",
    "project = Context.default().project_id\n",
    "# Years list for the extraction\n",
    "ylist = [year for year in range(2005,2019)]\n",
    "\n",
    "query = \" select closest.id, closest.name, closest.latitude, closest.longitude, element as stats_name, \" \\\n",
    "        \"  value as stats_value, date as measure_date \" \\\n",
    "        \" from `bigquery-public-data.ghcn_d.ghcnd_{}` as data right join (  \" \\\n",
    "             \" select id, name, state, latitude, longitude, \" \\\n",
    "             \"  ST_DISTANCE(ST_GEOGPOINT(longitude, latitude),ST_GEOGPOINT( -73.561667, 45.508889 )) / 1000.0 as distance  \" \\\n",
    "             \"  from `bigquery-public-data.ghcn_d.ghcnd_stations`  \" \\\n",
    "             \" where longitude is not null and latitude is not null) \" \\\n",
    "             \" as closest on data.id = closest.id \" \\\n",
    "        \" where  extract(year from data.date) =  {} \" \\\n",
    "        \" and closest.distance <= 20 and  element in ('TAVG','PRCP')  \"\n",
    "\n",
    "\n",
    "dflist = []\n",
    "\n",
    "for pullingyear in ylist:\n",
    "  bqu = query.format(pullingyear,pullingyear)\n",
    "  df = pd.read_gbq(bqu,project_id=project,dialect='standard')\n",
    "  dflist.append(df)\n",
    "  print(\"the query for the year {} has been completed successfully\".format(pullingyear))\n",
    "  \n",
    "  \n",
    "dfcompiled = pd.concat(dflist)\n",
    "\n",
    "dfcompiled.to_gbq('firemandb.hst_tmp_weather', \n",
    "                 Context.default().project_id,\n",
    "                 chunksize=10000, \n",
    "                 if_exists='append',\n",
    "                 verbose=False\n",
    "                 )\n",
    "  \n"
   ]
  },
  {
   "cell_type": "code",
   "execution_count": null,
   "metadata": {},
   "outputs": [],
   "source": []
  }
 ],
 "metadata": {
  "kernelspec": {
   "display_name": "Python 3",
   "language": "python",
   "name": "python3"
  },
  "language_info": {
   "codemirror_mode": {
    "name": "ipython",
    "version": 3
   },
   "file_extension": ".py",
   "mimetype": "text/x-python",
   "name": "python",
   "nbconvert_exporter": "python",
   "pygments_lexer": "ipython3",
   "version": "3.5.6"
  }
 },
 "nbformat": 4,
 "nbformat_minor": 2
}
