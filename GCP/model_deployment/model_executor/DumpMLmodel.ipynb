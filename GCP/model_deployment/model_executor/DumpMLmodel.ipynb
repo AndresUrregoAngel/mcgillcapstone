{
 "cells": [
  {
   "cell_type": "code",
   "execution_count": null,
   "metadata": {
    "colab": {},
    "colab_type": "code",
    "id": "cJzT60iYXNLD"
   },
   "outputs": [],
   "source": [
    "from urllib.request import urlretrieve\n",
    "import os\n",
    "from zipfile import ZipFile\n",
    "\n",
    "def download(url, file):\n",
    "    if not os.path.isfile(file):\n",
    "        print(\"Download file... \" + file + \" ...\")\n",
    "        urlretrieve(url,file)\n",
    "        print(\"File downloaded\")\n",
    "\n",
    "        \n",
    "        \n",
    "#download('Url of the file','Name of the file to be saved')\n",
    "#print(\"All the files are downloaded\")\n",
    "\n",
    "\n",
    "#If the downloaded file is a zip file than you can use below function to unzip it.\n",
    "def uncompress_features_labels(dir):\n",
    "    if(os.path.isdir('Mydata')):\n",
    "        print('Data extracted')\n",
    "    else:\n",
    "        with ZipFile(dir) as zipf:\n",
    "            zipf.extractall('Mydata')\n",
    "#uncompress_features_labels('data.zip')"
   ]
  },
  {
   "cell_type": "code",
   "execution_count": 2,
   "metadata": {
    "colab": {},
    "colab_type": "code",
    "id": "2xXRbrEOaP3X"
   },
   "outputs": [],
   "source": [
    "uncompress_features_labels('FinalData.zip')"
   ]
  },
  {
   "cell_type": "code",
   "execution_count": 1,
   "metadata": {
    "colab": {
     "base_uri": "https://localhost:8080/",
     "height": 1003
    },
    "colab_type": "code",
    "id": "6UZm8Tnd5IK7",
    "outputId": "b521331d-ecf6-465c-af07-d59c0d7f3caa"
   },
   "outputs": [
    {
     "name": "stdout",
     "output_type": "stream",
     "text": [
      "<class 'pandas.core.frame.DataFrame'>\n",
      "RangeIndex: 1128912 entries, 0 to 1128911\n",
      "Data columns (total 53 columns):\n",
      "LocationID                       1128912 non-null object\n",
      "LONGITUDE                        1128912 non-null float64\n",
      "LATITUDE                         1128912 non-null float64\n",
      "EventDate                        1128912 non-null object\n",
      "DateRange                        1128912 non-null object\n",
      "Autres_incendies                 1128912 non-null int64\n",
      "Sum_Autres_incendies             1128912 non-null int64\n",
      "Incendie_de_batiments            1128912 non-null int64\n",
      "Sum_Incendie_de_batiments        1128912 non-null int64\n",
      "Premier_Repondant                1128912 non-null int64\n",
      "Sum_Premier_Repondant            1128912 non-null int64\n",
      "Sans_incendie                    1128912 non-null int64\n",
      "Sum_Sans_incendie                1128912 non-null int64\n",
      "Crime                            1128912 non-null int64\n",
      "Sum_Crime                        1128912 non-null int64\n",
      "Alarmes_incendies                1128912 non-null int64\n",
      "Sum_Alarmes_incendies            1128912 non-null int64\n",
      "False_Alertes_Annulations        1128912 non-null int64\n",
      "Sum_False_Alertes_Annulations    1128912 non-null int64\n",
      "LookAHead                        1128912 non-null object\n",
      "TotalFires                       1128912 non-null int64\n",
      "Couples_No_Children              1128912 non-null float64\n",
      "CouplesWithChildren              1128912 non-null float64\n",
      "SizeOF House                     1128912 non-null float64\n",
      "Detached_House                   1128912 non-null float64\n",
      "Appartment_FiveFloors            1128912 non-null float64\n",
      "OtherType                        1128912 non-null float64\n",
      "Semi_detached                    1128912 non-null float64\n",
      "TownHouse                        1128912 non-null float64\n",
      "Duplex                           1128912 non-null float64\n",
      "Appartment_less_5Florrs          1128912 non-null float64\n",
      "OtherDtached                     1128912 non-null float64\n",
      "MObileHome                       1128912 non-null float64\n",
      "LandLord                         1128912 non-null float64\n",
      "Renter                           1128912 non-null float64\n",
      "1_4Rooms                         1128912 non-null float64\n",
      "5_rooms                          1128912 non-null float64\n",
      "6_rooms                          1128912 non-null float64\n",
      "7_rooms                          1128912 non-null float64\n",
      "8_RoomsOrmore                    1128912 non-null float64\n",
      "Average_Rooms                    1128912 non-null float64\n",
      "Simple_Maintenance               1128912 non-null float64\n",
      "Major_repairs                    1128912 non-null float64\n",
      "Median_house_value               1128912 non-null float64\n",
      "Average_House_Value              1128912 non-null float64\n",
      "AverageHouseholdIncome2015       1128912 non-null float64\n",
      "MedianHouseholdIncome2015        1128912 non-null float64\n",
      "Avg_flors                        1128912 non-null float64\n",
      "Avg_YearBuilt                    1128912 non-null float64\n",
      "Avg_LandArea                     1128912 non-null float64\n",
      "Avg_HomeArea                     1128912 non-null float64\n",
      "Fire_Y_N                         1128912 non-null int64\n",
      "Fire_next6Months_Y_N             1128912 non-null int64\n",
      "dtypes: float64(32), int64(17), object(4)\n",
      "memory usage: 456.5+ MB\n"
     ]
    }
   ],
   "source": [
    "import numpy as np\n",
    "import pandas as pd\n",
    "from sklearn.model_selection import train_test_split \n",
    "\n",
    "df=pd.read_csv(\"Mydata/FinalData.csv\")\n",
    "df.info()"
   ]
  },
  {
   "cell_type": "code",
   "execution_count": 2,
   "metadata": {
    "colab": {
     "base_uri": "https://localhost:8080/",
     "height": 34
    },
    "colab_type": "code",
    "id": "pt0YgUnr5IT2",
    "outputId": "3233996b-0b7b-426b-cbb0-5131a237a400"
   },
   "outputs": [
    {
     "data": {
      "text/plain": [
       "(1128912, 53)"
      ]
     },
     "execution_count": 2,
     "metadata": {},
     "output_type": "execute_result"
    }
   ],
   "source": [
    "#Sort by date \n",
    "df=df.sort_values('EventDate',ascending=True)\n",
    "df.shape"
   ]
  },
  {
   "cell_type": "code",
   "execution_count": 3,
   "metadata": {
    "colab": {
     "base_uri": "https://localhost:8080/",
     "height": 51
    },
    "colab_type": "code",
    "id": "L7tZUbOL59eW",
    "outputId": "64dc6042-fc25-4007-feba-945e5b33f35d"
   },
   "outputs": [
    {
     "name": "stdout",
     "output_type": "stream",
     "text": [
      "EventDate\n",
      "DateRange\n"
     ]
    }
   ],
   "source": [
    "df = df.drop(['LocationID','LookAHead'],axis=1)\n",
    "columns_to_parse = list(df.select_dtypes(include=['object']).columns)\n",
    "\n",
    "for cparse in columns_to_parse:\n",
    "  print(cparse)\n",
    "  df[cparse] = pd.to_datetime(df[cparse])\n",
    "  \n",
    "for cparse in columns_to_parse:\n",
    "  #cday = 'day_{}'.format(cparse)\n",
    "  cmonth = 'month_{}'.format(cparse)\n",
    "  #cyear = 'year_{}'.format(cparse)\n",
    "  \n",
    "  #df[cday] = df[cparse].dt.day\n",
    "  df[cmonth] = df[cparse].dt.month\n",
    "  #df[cyear] = df[cparse].dt.year\n",
    "  \n",
    "df = df.drop(['DateRange'],axis=1)"
   ]
  },
  {
   "cell_type": "code",
   "execution_count": 4,
   "metadata": {
    "colab": {
     "base_uri": "https://localhost:8080/",
     "height": 34
    },
    "colab_type": "code",
    "id": "50huTkxcATL3",
    "outputId": "6f78613d-ce1c-488d-9897-445fea6c2a38"
   },
   "outputs": [
    {
     "data": {
      "text/plain": [
       "(960234, 52)"
      ]
     },
     "execution_count": 4,
     "metadata": {},
     "output_type": "execute_result"
    }
   ],
   "source": [
    "import datetime\n",
    "#We choose dates Before the 2017-10-31 so that we have enough data to look forward\n",
    "df=df[df['EventDate']<=datetime.date(year=2017,month=6,day=30)]\n",
    "# And We choose dates after 2009-06-30 so that we have enough data to look backward and build history\n",
    "df=df[df['EventDate']>datetime.date(year=2009,month=6,day=30)]\n",
    "df.shape"
   ]
  },
  {
   "cell_type": "code",
   "execution_count": 5,
   "metadata": {
    "colab": {
     "base_uri": "https://localhost:8080/",
     "height": 34
    },
    "colab_type": "code",
    "id": "tRrvYLJiAmlh",
    "outputId": "30daaa64-6b58-4ff7-db95-ca7f5b666e1c"
   },
   "outputs": [
    {
     "name": "stdout",
     "output_type": "stream",
     "text": [
      "Data_shape (949843, 52)\n"
     ]
    }
   ],
   "source": [
    "df=df[df['Incendie_de_batiments']!=1]\n",
    "print('Data_shape',df.shape)"
   ]
  },
  {
   "cell_type": "code",
   "execution_count": 8,
   "metadata": {
    "colab": {
     "base_uri": "https://localhost:8080/",
     "height": 901
    },
    "colab_type": "code",
    "id": "e34VwUow6-PP",
    "outputId": "13278abe-b2f2-424c-83ab-0b9612bde789"
   },
   "outputs": [
    {
     "name": "stdout",
     "output_type": "stream",
     "text": [
      "(0, 'LONGITUDE')\n",
      "(1, 'LATITUDE')\n",
      "(2, 'EventDate')\n",
      "(3, 'Autres_incendies')\n",
      "(4, 'Sum_Autres_incendies')\n",
      "(5, 'Incendie_de_batiments')\n",
      "(6, 'Sum_Incendie_de_batiments')\n",
      "(7, 'Premier_Repondant')\n",
      "(8, 'Sum_Premier_Repondant')\n",
      "(9, 'Sans_incendie')\n",
      "(10, 'Sum_Sans_incendie')\n",
      "(11, 'Crime')\n",
      "(12, 'Sum_Crime')\n",
      "(13, 'Alarmes_incendies')\n",
      "(14, 'Sum_Alarmes_incendies')\n",
      "(15, 'False_Alertes_Annulations')\n",
      "(16, 'Sum_False_Alertes_Annulations')\n",
      "(17, 'TotalFires')\n",
      "(18, 'Couples_No_Children')\n",
      "(19, 'CouplesWithChildren')\n",
      "(20, 'SizeOF House')\n",
      "(21, 'Detached_House')\n",
      "(22, 'Appartment_FiveFloors')\n",
      "(23, 'OtherType')\n",
      "(24, 'Semi_detached')\n",
      "(25, 'TownHouse')\n",
      "(26, 'Duplex')\n",
      "(27, 'Appartment_less_5Florrs')\n",
      "(28, 'OtherDtached')\n",
      "(29, 'MObileHome')\n",
      "(30, 'LandLord')\n",
      "(31, 'Renter')\n",
      "(32, '1_4Rooms')\n",
      "(33, '5_rooms')\n",
      "(34, '6_rooms')\n",
      "(35, '7_rooms')\n",
      "(36, '8_RoomsOrmore')\n",
      "(37, 'Average_Rooms')\n",
      "(38, 'Simple_Maintenance')\n",
      "(39, 'Major_repairs')\n",
      "(40, 'Median_house_value')\n",
      "(41, 'Average_House_Value')\n",
      "(42, 'AverageHouseholdIncome2015')\n",
      "(43, 'MedianHouseholdIncome2015')\n",
      "(44, 'Avg_flors')\n",
      "(45, 'Avg_YearBuilt')\n",
      "(46, 'Avg_LandArea')\n",
      "(47, 'Avg_HomeArea')\n",
      "(48, 'Fire_Y_N')\n",
      "(49, 'Fire_next6Months_Y_N')\n",
      "(50, 'month_EventDate')\n",
      "(51, 'month_DateRange')\n"
     ]
    }
   ],
   "source": [
    "for i in enumerate(list(df.columns.values)):\n",
    "  print (i)"
   ]
  },
  {
   "cell_type": "code",
   "execution_count": 6,
   "metadata": {
    "colab": {
     "base_uri": "https://localhost:8080/",
     "height": 355
    },
    "colab_type": "code",
    "id": "iC1SNLatF48J",
    "outputId": "659f74da-a613-4e10-e86c-6d1a8fa94e8f"
   },
   "outputs": [
    {
     "name": "stdout",
     "output_type": "stream",
     "text": [
      "(949843, 37)\n"
     ]
    },
    {
     "data": {
      "text/html": [
       "<div>\n",
       "<style scoped>\n",
       "    .dataframe tbody tr th:only-of-type {\n",
       "        vertical-align: middle;\n",
       "    }\n",
       "\n",
       "    .dataframe tbody tr th {\n",
       "        vertical-align: top;\n",
       "    }\n",
       "\n",
       "    .dataframe thead th {\n",
       "        text-align: right;\n",
       "    }\n",
       "</style>\n",
       "<table border=\"1\" class=\"dataframe\">\n",
       "  <thead>\n",
       "    <tr style=\"text-align: right;\">\n",
       "      <th></th>\n",
       "      <th>LONGITUDE</th>\n",
       "      <th>LATITUDE</th>\n",
       "      <th>EventDate</th>\n",
       "      <th>Sum_Autres_incendies</th>\n",
       "      <th>Sum_Incendie_de_batiments</th>\n",
       "      <th>Sum_Premier_Repondant</th>\n",
       "      <th>Sum_Sans_incendie</th>\n",
       "      <th>Sum_Crime</th>\n",
       "      <th>Sum_Alarmes_incendies</th>\n",
       "      <th>Sum_False_Alertes_Annulations</th>\n",
       "      <th>...</th>\n",
       "      <th>Average_Rooms</th>\n",
       "      <th>Simple_Maintenance</th>\n",
       "      <th>Major_repairs</th>\n",
       "      <th>Average_House_Value</th>\n",
       "      <th>AverageHouseholdIncome2015</th>\n",
       "      <th>Avg_flors</th>\n",
       "      <th>Avg_YearBuilt</th>\n",
       "      <th>Avg_LandArea</th>\n",
       "      <th>Avg_HomeArea</th>\n",
       "      <th>Fire_next6Months_Y_N</th>\n",
       "    </tr>\n",
       "  </thead>\n",
       "  <tbody>\n",
       "    <tr>\n",
       "      <th>1054123</th>\n",
       "      <td>-73.803280</td>\n",
       "      <td>45.441335</td>\n",
       "      <td>2009-07-01</td>\n",
       "      <td>0</td>\n",
       "      <td>0</td>\n",
       "      <td>2</td>\n",
       "      <td>0</td>\n",
       "      <td>0</td>\n",
       "      <td>1</td>\n",
       "      <td>0</td>\n",
       "      <td>...</td>\n",
       "      <td>6.931448</td>\n",
       "      <td>8980.629329</td>\n",
       "      <td>669.430018</td>\n",
       "      <td>466235.1973</td>\n",
       "      <td>120585.33770</td>\n",
       "      <td>1.800</td>\n",
       "      <td>1976.200</td>\n",
       "      <td>579.1000</td>\n",
       "      <td>166.325000</td>\n",
       "      <td>0</td>\n",
       "    </tr>\n",
       "    <tr>\n",
       "      <th>88465</th>\n",
       "      <td>-73.540606</td>\n",
       "      <td>45.577049</td>\n",
       "      <td>2009-07-01</td>\n",
       "      <td>0</td>\n",
       "      <td>0</td>\n",
       "      <td>14</td>\n",
       "      <td>3</td>\n",
       "      <td>0</td>\n",
       "      <td>2</td>\n",
       "      <td>0</td>\n",
       "      <td>...</td>\n",
       "      <td>4.544139</td>\n",
       "      <td>53835.641270</td>\n",
       "      <td>4668.286019</td>\n",
       "      <td>377169.2827</td>\n",
       "      <td>62037.57374</td>\n",
       "      <td>2.650</td>\n",
       "      <td>1965.275</td>\n",
       "      <td>270.8750</td>\n",
       "      <td>399.200000</td>\n",
       "      <td>0</td>\n",
       "    </tr>\n",
       "    <tr>\n",
       "      <th>981208</th>\n",
       "      <td>-73.694068</td>\n",
       "      <td>45.542716</td>\n",
       "      <td>2009-07-01</td>\n",
       "      <td>0</td>\n",
       "      <td>0</td>\n",
       "      <td>3</td>\n",
       "      <td>2</td>\n",
       "      <td>0</td>\n",
       "      <td>0</td>\n",
       "      <td>0</td>\n",
       "      <td>...</td>\n",
       "      <td>5.036385</td>\n",
       "      <td>42509.006990</td>\n",
       "      <td>3314.208471</td>\n",
       "      <td>544604.1386</td>\n",
       "      <td>93691.50810</td>\n",
       "      <td>2.025</td>\n",
       "      <td>1955.125</td>\n",
       "      <td>376.4875</td>\n",
       "      <td>264.825000</td>\n",
       "      <td>0</td>\n",
       "    </tr>\n",
       "    <tr>\n",
       "      <th>21235</th>\n",
       "      <td>-73.504466</td>\n",
       "      <td>45.664573</td>\n",
       "      <td>2009-07-01</td>\n",
       "      <td>0</td>\n",
       "      <td>0</td>\n",
       "      <td>3</td>\n",
       "      <td>0</td>\n",
       "      <td>0</td>\n",
       "      <td>0</td>\n",
       "      <td>0</td>\n",
       "      <td>...</td>\n",
       "      <td>5.132363</td>\n",
       "      <td>26640.044490</td>\n",
       "      <td>1751.918071</td>\n",
       "      <td>312101.0809</td>\n",
       "      <td>67160.61247</td>\n",
       "      <td>1.700</td>\n",
       "      <td>1970.850</td>\n",
       "      <td>1602.0000</td>\n",
       "      <td>903.008333</td>\n",
       "      <td>0</td>\n",
       "    </tr>\n",
       "    <tr>\n",
       "      <th>717835</th>\n",
       "      <td>-73.624902</td>\n",
       "      <td>45.529648</td>\n",
       "      <td>2009-07-01</td>\n",
       "      <td>0</td>\n",
       "      <td>0</td>\n",
       "      <td>8</td>\n",
       "      <td>2</td>\n",
       "      <td>0</td>\n",
       "      <td>3</td>\n",
       "      <td>0</td>\n",
       "      <td>...</td>\n",
       "      <td>5.428930</td>\n",
       "      <td>27609.353220</td>\n",
       "      <td>2770.540134</td>\n",
       "      <td>732568.0598</td>\n",
       "      <td>134874.94140</td>\n",
       "      <td>2.650</td>\n",
       "      <td>1944.600</td>\n",
       "      <td>262.2500</td>\n",
       "      <td>431.400000</td>\n",
       "      <td>1</td>\n",
       "    </tr>\n",
       "  </tbody>\n",
       "</table>\n",
       "<p>5 rows × 37 columns</p>\n",
       "</div>"
      ],
      "text/plain": [
       "         LONGITUDE   LATITUDE  EventDate  Sum_Autres_incendies  \\\n",
       "1054123 -73.803280  45.441335 2009-07-01                     0   \n",
       "88465   -73.540606  45.577049 2009-07-01                     0   \n",
       "981208  -73.694068  45.542716 2009-07-01                     0   \n",
       "21235   -73.504466  45.664573 2009-07-01                     0   \n",
       "717835  -73.624902  45.529648 2009-07-01                     0   \n",
       "\n",
       "         Sum_Incendie_de_batiments  Sum_Premier_Repondant  Sum_Sans_incendie  \\\n",
       "1054123                          0                      2                  0   \n",
       "88465                            0                     14                  3   \n",
       "981208                           0                      3                  2   \n",
       "21235                            0                      3                  0   \n",
       "717835                           0                      8                  2   \n",
       "\n",
       "         Sum_Crime  Sum_Alarmes_incendies  Sum_False_Alertes_Annulations  \\\n",
       "1054123          0                      1                              0   \n",
       "88465            0                      2                              0   \n",
       "981208           0                      0                              0   \n",
       "21235            0                      0                              0   \n",
       "717835           0                      3                              0   \n",
       "\n",
       "                 ...           Average_Rooms  Simple_Maintenance  \\\n",
       "1054123          ...                6.931448         8980.629329   \n",
       "88465            ...                4.544139        53835.641270   \n",
       "981208           ...                5.036385        42509.006990   \n",
       "21235            ...                5.132363        26640.044490   \n",
       "717835           ...                5.428930        27609.353220   \n",
       "\n",
       "         Major_repairs  Average_House_Value  AverageHouseholdIncome2015  \\\n",
       "1054123     669.430018          466235.1973                120585.33770   \n",
       "88465      4668.286019          377169.2827                 62037.57374   \n",
       "981208     3314.208471          544604.1386                 93691.50810   \n",
       "21235      1751.918071          312101.0809                 67160.61247   \n",
       "717835     2770.540134          732568.0598                134874.94140   \n",
       "\n",
       "         Avg_flors  Avg_YearBuilt  Avg_LandArea  Avg_HomeArea  \\\n",
       "1054123      1.800       1976.200      579.1000    166.325000   \n",
       "88465        2.650       1965.275      270.8750    399.200000   \n",
       "981208       2.025       1955.125      376.4875    264.825000   \n",
       "21235        1.700       1970.850     1602.0000    903.008333   \n",
       "717835       2.650       1944.600      262.2500    431.400000   \n",
       "\n",
       "         Fire_next6Months_Y_N  \n",
       "1054123                     0  \n",
       "88465                       0  \n",
       "981208                      0  \n",
       "21235                       0  \n",
       "717835                      1  \n",
       "\n",
       "[5 rows x 37 columns]"
      ]
     },
     "execution_count": 6,
     "metadata": {},
     "output_type": "execute_result"
    }
   ],
   "source": [
    "#//before removing duplicates  'LONGITUDE','LATITUDE','EventDate','month_EventDate',    ,'day_EventDate','month_EventDate','year_EventDate'\n",
    "\n",
    "t=df.iloc[:,0:51].drop(['Autres_incendies','Premier_Repondant','Sans_incendie','Crime',\n",
    "          'Alarmes_incendies','False_Alertes_Annulations',\n",
    "          'Fire_Y_N','TotalFires','Incendie_de_batiments','month_EventDate',\n",
    "         'MedianHouseholdIncome2015','Median_house_value','LandLord','Renter'],axis=1)\n",
    "print(t.shape)\n",
    "t.head(5)\n",
    "\n",
    "\n"
   ]
  },
  {
   "cell_type": "code",
   "execution_count": 0,
   "metadata": {
    "colab": {},
    "colab_type": "code",
    "id": "zS7Q8XU3fEcj"
   },
   "outputs": [],
   "source": [
    "#//remove duplicates\n",
    "#det=t.drop_duplicates(subset=('LONGITUDE','LATITUDE','day_EventDate','month_EventDate','year_EventDate'), keep='last')\n",
    "#print(det.shape)\n"
   ]
  },
  {
   "cell_type": "code",
   "execution_count": 7,
   "metadata": {
    "colab": {
     "base_uri": "https://localhost:8080/",
     "height": 34
    },
    "colab_type": "code",
    "id": "RQ4wN-DmRUj-",
    "outputId": "d015d35f-cf10-4c9e-c394-7c21220eb425"
   },
   "outputs": [
    {
     "name": "stdout",
     "output_type": "stream",
     "text": [
      "(587784, 37)\n"
     ]
    }
   ],
   "source": [
    "\n",
    "#//remove duplicates\n",
    "det=t.drop_duplicates(list(df.iloc[:,3:51].drop(['Autres_incendies','Premier_Repondant','Sans_incendie','Crime',\n",
    "          'Alarmes_incendies','False_Alertes_Annulations',\n",
    "          'Fire_Y_N','TotalFires','Incendie_de_batiments','month_EventDate',\n",
    "         'MedianHouseholdIncome2015','Median_house_value','LandLord','Renter'],axis=1).columns.values), keep='last')\n",
    "print(det.shape)"
   ]
  },
  {
   "cell_type": "code",
   "execution_count": 15,
   "metadata": {
    "colab": {
     "base_uri": "https://localhost:8080/",
     "height": 51
    },
    "colab_type": "code",
    "id": "wiG8J4T5RNt3",
    "outputId": "de695ddb-1668-4e3f-b2a5-9b1dabb61046"
   },
   "outputs": [
    {
     "name": "stdout",
     "output_type": "stream",
     "text": [
      "yshape (587784,)\n",
      "xshape (587784, 36)\n",
      "1054123    0\n",
      "88465      0\n",
      "981208     0\n",
      "21235      0\n",
      "717835     1\n",
      "Name: Fire_next6Months_Y_N, dtype: int64\n"
     ]
    }
   ],
   "source": [
    "#//X, y\n",
    "y = det['Fire_next6Months_Y_N']\n",
    "print('yshape',y.shape)\n",
    "x=det.drop(['Fire_next6Months_Y_N'],axis=1)\n",
    "print('xshape',x.shape)\n"
   ]
  },
  {
   "cell_type": "code",
   "execution_count": 12,
   "metadata": {
    "colab": {
     "base_uri": "https://localhost:8080/",
     "height": 629
    },
    "colab_type": "code",
    "id": "OpwnMJYY59rL",
    "outputId": "2835aee9-0595-4f63-fff2-f4ae5b8a4051"
   },
   "outputs": [
    {
     "name": "stdout",
     "output_type": "stream",
     "text": [
      "(0, 'LONGITUDE')\n",
      "(1, 'LATITUDE')\n",
      "(2, 'EventDate')\n",
      "(3, 'Sum_Autres_incendies')\n",
      "(4, 'Sum_Incendie_de_batiments')\n",
      "(5, 'Sum_Premier_Repondant')\n",
      "(6, 'Sum_Sans_incendie')\n",
      "(7, 'Sum_Crime')\n",
      "(8, 'Sum_Alarmes_incendies')\n",
      "(9, 'Sum_False_Alertes_Annulations')\n",
      "(10, 'Couples_No_Children')\n",
      "(11, 'CouplesWithChildren')\n",
      "(12, 'SizeOF House')\n",
      "(13, 'Detached_House')\n",
      "(14, 'Appartment_FiveFloors')\n",
      "(15, 'OtherType')\n",
      "(16, 'Semi_detached')\n",
      "(17, 'TownHouse')\n",
      "(18, 'Duplex')\n",
      "(19, 'Appartment_less_5Florrs')\n",
      "(20, 'OtherDtached')\n",
      "(21, 'MObileHome')\n",
      "(22, '1_4Rooms')\n",
      "(23, '5_rooms')\n",
      "(24, '6_rooms')\n",
      "(25, '7_rooms')\n",
      "(26, '8_RoomsOrmore')\n",
      "(27, 'Average_Rooms')\n",
      "(28, 'Simple_Maintenance')\n",
      "(29, 'Major_repairs')\n",
      "(30, 'Average_House_Value')\n",
      "(31, 'AverageHouseholdIncome2015')\n",
      "(32, 'Avg_flors')\n",
      "(33, 'Avg_YearBuilt')\n",
      "(34, 'Avg_LandArea')\n",
      "(35, 'Avg_HomeArea')\n"
     ]
    }
   ],
   "source": [
    "#Verify Predictors\n",
    "for i in enumerate(list(x.columns.values)):\n",
    "    print (i)"
   ]
  },
  {
   "cell_type": "code",
   "execution_count": 11,
   "metadata": {
    "colab": {},
    "colab_type": "code",
    "id": "qCUZMzyy59vZ"
   },
   "outputs": [],
   "source": [
    "#Use this if you want to perform random split\n",
    "\n",
    "X_train , X_test,y_train, y_test = train_test_split( \n",
    "            x, y , test_size=0.34, random_state= 165 )\n",
    "\n",
    "\n",
    "\n",
    "\n",
    "\n",
    "\n",
    "#Run only if you want to measure not at random but in sequence\n",
    "#rows_train=det['EventDate']<datetime.date(year=2017,month=1,day=1)\n",
    "#rows_test=det['EventDate']>=datetime.date(year=2017,month=1,day=1)\n",
    "#trainrows=det[rows_train].shape[0]\n",
    "#testrows=det[rows_test].shape[0]\n",
    "#print(trainrows,testrows)\n",
    "\n",
    "#Use only if you want to run sequntial. Split by date train = Upto (2017-01-01)\n",
    "# test = >2017-01-01 to 2017-10-30\n",
    "\n",
    "#X_train=x[:trainrows]\n",
    "#X_test=x[trainrows:]\n",
    "#y_train=y[:trainrows]\n",
    "#y_test=y[trainrows:]"
   ]
  },
  {
   "cell_type": "code",
   "execution_count": 12,
   "metadata": {
    "colab": {
     "base_uri": "https://localhost:8080/",
     "height": 51
    },
    "colab_type": "code",
    "id": "uUUpATPv592d",
    "outputId": "85c302e7-a3e4-4449-e870-874bd502a777"
   },
   "outputs": [
    {
     "name": "stdout",
     "output_type": "stream",
     "text": [
      "X_train.shape (387937, 36)\n",
      "X_test.shape (199847, 36)\n"
     ]
    }
   ],
   "source": [
    "print('X_train.shape' , X_train.shape)\n",
    "print('X_test.shape' , X_test.shape)\n"
   ]
  },
  {
   "cell_type": "code",
   "execution_count": 13,
   "metadata": {
    "colab": {},
    "colab_type": "code",
    "id": "9jJCVBFkFiIZ"
   },
   "outputs": [],
   "source": [
    "X_train=X_train.drop(['LONGITUDE','LATITUDE','EventDate'],axis=1)\n",
    "#X_train=X_train.drop(['EventDate'],axis=1)\n",
    "X_test_backup=X_test.copy()\n",
    "X_test=X_test.drop(['LONGITUDE','LATITUDE','EventDate'],axis=1)\n",
    "#X_test=X_test.drop(['EventDate'],axis=1)"
   ]
  },
  {
   "cell_type": "code",
   "execution_count": 14,
   "metadata": {
    "colab": {
     "base_uri": "https://localhost:8080/",
     "height": 51
    },
    "colab_type": "code",
    "id": "bsI7peSiFqGo",
    "outputId": "e1e26eb4-ec4d-4194-97c0-77ee0abdd80d"
   },
   "outputs": [
    {
     "name": "stdout",
     "output_type": "stream",
     "text": [
      "X_train.shape (387937, 33)\n",
      "X_test.shape (199847, 33)\n"
     ]
    }
   ],
   "source": [
    "print('X_train.shape' , X_train.shape)\n",
    "print('X_test.shape' , X_test.shape)"
   ]
  },
  {
   "cell_type": "markdown",
   "metadata": {
    "colab_type": "text",
    "id": "Rhtmh9XcrEFA"
   },
   "source": [
    "## **Plain Decision Tree Model**"
   ]
  },
  {
   "cell_type": "code",
   "execution_count": null,
   "metadata": {
    "colab": {},
    "colab_type": "code",
    "id": "-ywo2fxl59yN"
   },
   "outputs": [],
   "source": [
    "#Decision Tree\n",
    "from sklearn.externals import joblib\n",
    "from sklearn.tree import DecisionTreeClassifier\n",
    "dtree = DecisionTreeClassifier(max_depth=60,random_state=167)\n",
    "dtree.fit(X_train,y_train)\n",
    "#Export model\n",
    "joblib.dump(dtree,'model.joblib')\n",
    "!gsutil cp model.joblib gs://projectcsv/model.joblib\n"
   ]
  },
  {
   "cell_type": "markdown",
   "metadata": {},
   "source": [
    "#### Create the input file for our model"
   ]
  },
  {
   "cell_type": "code",
   "execution_count": 46,
   "metadata": {},
   "outputs": [
    {
     "name": "stdout",
     "output_type": "stream",
     "text": [
      "Copying file://input [Content-Type=application/octet-stream]...\n",
      "/ [1 files][  2.2 KiB/  2.2 KiB]                                                \n",
      "Operation completed over 1 objects/2.2 KiB.                                      \n"
     ]
    }
   ],
   "source": [
    "df = X_test.head(5)\n",
    "df.to_csv('input',index=False,encoding='utf-8')\n",
    "!gsutil cp input gs://projectcsv/input"
   ]
  },
  {
   "cell_type": "code",
   "execution_count": 18,
   "metadata": {
    "colab": {
     "base_uri": "https://localhost:8080/",
     "height": 714
    },
    "colab_type": "code",
    "id": "-LyWl5P6FmI4",
    "outputId": "5405fb48-b825-43c0-9dc4-742ada041fc4"
   },
   "outputs": [
    {
     "name": "stdout",
     "output_type": "stream",
     "text": [
      "Recall:0.455\n",
      "Precision:0.439\n",
      "f1:0.447\n",
      "kappa:0.403\n",
      "Confusion Matrix\n",
      "[[176722   8496]\n",
      " [  7972   6657]]\n",
      "                          Feature  Importance\n",
      "0            Sum_Autres_incendies    5.637335\n",
      "1       Sum_Incendie_de_batiments    6.612129\n",
      "2           Sum_Premier_Repondant   19.512906\n",
      "3               Sum_Sans_incendie   12.801730\n",
      "4                       Sum_Crime    0.219568\n",
      "5           Sum_Alarmes_incendies   12.812887\n",
      "6   Sum_False_Alertes_Annulations    0.521693\n",
      "7             Couples_No_Children    0.871509\n",
      "8             CouplesWithChildren    1.299685\n",
      "9                    SizeOF House    1.372691\n",
      "10                 Detached_House    1.342144\n",
      "11          Appartment_FiveFloors    1.769533\n",
      "12                      OtherType    1.024366\n",
      "13                  Semi_detached    1.480767\n",
      "14                      TownHouse    1.787599\n",
      "15                         Duplex    1.460210\n",
      "16        Appartment_less_5Florrs    1.129012\n",
      "17                   OtherDtached    1.314851\n",
      "18                     MObileHome    1.673739\n",
      "19                       1_4Rooms    1.175584\n",
      "20                        5_rooms    1.360111\n",
      "21                        6_rooms    1.148517\n",
      "22                        7_rooms    1.328092\n",
      "23                  8_RoomsOrmore    1.498839\n",
      "24                  Average_Rooms    1.315439\n",
      "25             Simple_Maintenance    0.833301\n",
      "26                  Major_repairs    1.106676\n",
      "27            Average_House_Value    1.461521\n",
      "28     AverageHouseholdIncome2015    1.511453\n",
      "29                      Avg_flors    2.936615\n",
      "30                  Avg_YearBuilt    2.941954\n",
      "31                   Avg_LandArea    3.476894\n",
      "32                   Avg_HomeArea    3.260650\n"
     ]
    }
   ],
   "source": [
    "from sklearn.metrics import confusion_matrix, recall_score, precision_score, f1_score, cohen_kappa_score\n",
    "print('Recall:{0:0.3f}'.format(recall_score(y_test,y_pred)))\n",
    "print('Precision:{0:0.3f}'.format(precision_score(y_test,y_pred)))\n",
    "print('f1:{0:0.3f}'.format(f1_score(y_test,y_pred)))\n",
    "print('kappa:{0:0.3f}'.format(cohen_kappa_score(y_test,y_pred)))\n",
    "print('Confusion Matrix')\n",
    "print(confusion_matrix(y_test, y_pred))\n",
    "VarImp=[]\n",
    "k=0\n",
    "for i in list(X_test.columns.values):\n",
    "  VarImp.append([str(X_test.columns.values[k]),(dtree.feature_importances_[k]*100)])\n",
    "  k+=1\n",
    "VarImpdf = pd.DataFrame(VarImp,columns=['Feature','Importance'])\n",
    "#VarImpdf=VarImpdf.sort_values('Importance',ascending=False)\n",
    "print(VarImpdf)\n"
   ]
  },
  {
   "cell_type": "code",
   "execution_count": 19,
   "metadata": {
    "colab": {
     "base_uri": "https://localhost:8080/",
     "height": 347
    },
    "colab_type": "code",
    "id": "xQlSgTLWqqxs",
    "outputId": "565e4288-40c2-4eb9-c847-82fd97ba3a09"
   },
   "outputs": [
    {
     "data": {
      "image/png": "[encoded data removed]",
      "text/plain": [
       "<Figure size 576x396 with 1 Axes>"
      ]
     },
     "metadata": {
      "tags": []
     },
     "output_type": "display_data"
    }
   ],
   "source": [
    "from matplotlib import pyplot\n",
    "pyplot.bar(range(len(dtree.feature_importances_)), dtree.feature_importances_)\n",
    "pyplot.show()"
   ]
  },
  {
   "cell_type": "code",
   "execution_count": 20,
   "metadata": {
    "colab": {
     "base_uri": "https://localhost:8080/",
     "height": 376
    },
    "colab_type": "code",
    "id": "Qbu_ONjf59uA",
    "outputId": "80537af6-ddc9-4f53-8da6-7c1e51933c39"
   },
   "outputs": [
    {
     "data": {
      "image/png": "[encoded data removed]",
      "text/plain": [
       "<Figure size 576x396 with 1 Axes>"
      ]
     },
     "metadata": {
      "tags": []
     },
     "output_type": "display_data"
    }
   ],
   "source": [
    "import sklearn.metrics as metrics\n",
    "# calculate the fpr and tpr for all thresholds of the classification\n",
    "probs = dtree.predict_proba(X_test)\n",
    "preds = probs[:,1]\n",
    "fpr, tpr, threshold = metrics.roc_curve(y_test, preds)\n",
    "roc_auc = metrics.auc(fpr, tpr)\n",
    "\n",
    "# method I: plt\n",
    "import matplotlib.pyplot as plt\n",
    "plt.title('Receiver Operating Characteristic')\n",
    "plt.plot(fpr, tpr, 'b', label = 'AUC = %0.2f' % roc_auc)\n",
    "plt.legend(loc = 'lower right')\n",
    "plt.plot([0, 1], [0, 1],'r--')\n",
    "plt.xlim([0, 1])\n",
    "plt.ylim([0, 1])\n",
    "plt.ylabel('True Positive Rate')\n",
    "plt.xlabel('False Positive Rate')\n",
    "plt.show()"
   ]
  },
  {
   "cell_type": "code",
   "execution_count": 21,
   "metadata": {
    "colab": {
     "base_uri": "https://localhost:8080/",
     "height": 170
    },
    "colab_type": "code",
    "id": "YW2V4R5VwxLX",
    "outputId": "abfe9231-670a-4164-adb5-be82e945b860"
   },
   "outputs": [
    {
     "name": "stdout",
     "output_type": "stream",
     "text": [
      "              precision    recall  f1-score   support\n",
      "\n",
      "           0       0.96      0.95      0.96    185218\n",
      "           1       0.44      0.46      0.45     14629\n",
      "\n",
      "   micro avg       0.92      0.92      0.92    199847\n",
      "   macro avg       0.70      0.70      0.70    199847\n",
      "weighted avg       0.92      0.92      0.92    199847\n",
      "\n"
     ]
    }
   ],
   "source": [
    "from sklearn.metrics import classification_report, cohen_kappa_score\n",
    "print(classification_report(y_test,y_pred))"
   ]
  },
  {
   "cell_type": "markdown",
   "metadata": {
    "colab_type": "text",
    "id": "2rWAhLl-C5C4"
   },
   "source": [
    "## **Random Forest Tree Model**"
   ]
  },
  {
   "cell_type": "code",
   "execution_count": 0,
   "metadata": {
    "colab": {},
    "colab_type": "code",
    "id": "6mKzYgeF59mz"
   },
   "outputs": [],
   "source": [
    "#Random Forest Tree\n",
    "\n",
    "from sklearn.ensemble import RandomForestClassifier\n",
    "rndf = RandomForestClassifier(n_estimators=100, max_depth=60,random_state=167)\n",
    "rndf.fit(X_train,y_train)\n",
    "y_pred = rndf.predict(X_test)\n"
   ]
  },
  {
   "cell_type": "code",
   "execution_count": 23,
   "metadata": {
    "colab": {
     "base_uri": "https://localhost:8080/",
     "height": 714
    },
    "colab_type": "code",
    "id": "QbaeWfaTPRrD",
    "outputId": "7632b90e-1640-4cb5-e140-b84ac4351e07"
   },
   "outputs": [
    {
     "name": "stdout",
     "output_type": "stream",
     "text": [
      "Recall:0.446\n",
      "Precision:0.617\n",
      "f1:0.518\n",
      "kappa:0.486\n",
      "Confusion Matrix\n",
      "[[181173   4045]\n",
      " [  8105   6524]]\n",
      "                          Feature  Importance\n",
      "0            Sum_Autres_incendies    5.627817\n",
      "1       Sum_Incendie_de_batiments    4.416537\n",
      "2           Sum_Premier_Repondant   23.562459\n",
      "3               Sum_Sans_incendie   14.230483\n",
      "4                       Sum_Crime    0.223628\n",
      "5           Sum_Alarmes_incendies   12.848393\n",
      "6   Sum_False_Alertes_Annulations    0.466472\n",
      "7             Couples_No_Children    1.352183\n",
      "8             CouplesWithChildren    1.376694\n",
      "9                    SizeOF House    1.478065\n",
      "10                 Detached_House    1.527576\n",
      "11          Appartment_FiveFloors    1.497550\n",
      "12                      OtherType    1.347506\n",
      "13                  Semi_detached    1.426204\n",
      "14                      TownHouse    1.550613\n",
      "15                         Duplex    1.474393\n",
      "16        Appartment_less_5Florrs    1.332883\n",
      "17                   OtherDtached    1.456652\n",
      "18                     MObileHome    1.499862\n",
      "19                       1_4Rooms    1.328204\n",
      "20                        5_rooms    1.365861\n",
      "21                        6_rooms    1.373940\n",
      "22                        7_rooms    1.387381\n",
      "23                  8_RoomsOrmore    1.461079\n",
      "24                  Average_Rooms    1.424583\n",
      "25             Simple_Maintenance    1.289666\n",
      "26                  Major_repairs    1.351905\n",
      "27            Average_House_Value    1.445947\n",
      "28     AverageHouseholdIncome2015    1.485375\n",
      "29                      Avg_flors    1.853714\n",
      "30                  Avg_YearBuilt    1.669168\n",
      "31                   Avg_LandArea    1.852248\n",
      "32                   Avg_HomeArea    2.014959\n"
     ]
    }
   ],
   "source": [
    "from sklearn.metrics import confusion_matrix, recall_score, precision_score, f1_score, cohen_kappa_score\n",
    "print('Recall:{0:0.3f}'.format(recall_score(y_test,y_pred)))\n",
    "print('Precision:{0:0.3f}'.format(precision_score(y_test,y_pred)))\n",
    "print('f1:{0:0.3f}'.format(f1_score(y_test,y_pred)))\n",
    "print('kappa:{0:0.3f}'.format(cohen_kappa_score(y_test,y_pred)))\n",
    "print('Confusion Matrix')\n",
    "print(confusion_matrix(y_test, y_pred))\n",
    "VarImp=[]\n",
    "k=0\n",
    "for i in list(X_test.columns.values):\n",
    "  VarImp.append([str(X_test.columns.values[k]),(rndf.feature_importances_[k]*100)])\n",
    "  k+=1\n",
    "VarImpdf = pd.DataFrame(VarImp,columns=['Feature','Importance'])\n",
    "#VarImpdf=VarImpdf.sort_values('Importance',ascending=False)\n",
    "print(VarImpdf)\n"
   ]
  },
  {
   "cell_type": "code",
   "execution_count": 24,
   "metadata": {
    "colab": {
     "base_uri": "https://localhost:8080/",
     "height": 347
    },
    "colab_type": "code",
    "id": "dEPnCkK5qX9x",
    "outputId": "dff941e6-85c2-4b17-b9d1-0fd9716e8c91"
   },
   "outputs": [
    {
     "data": {
      "image/png": "[encoded data removed]",
      "text/plain": [
       "<Figure size 576x396 with 1 Axes>"
      ]
     },
     "metadata": {
      "tags": []
     },
     "output_type": "display_data"
    }
   ],
   "source": [
    "from matplotlib import pyplot\n",
    "pyplot.bar(range(len(rndf.feature_importances_)), rndf.feature_importances_)\n",
    "pyplot.show()"
   ]
  },
  {
   "cell_type": "code",
   "execution_count": 25,
   "metadata": {
    "colab": {
     "base_uri": "https://localhost:8080/",
     "height": 376
    },
    "colab_type": "code",
    "id": "lDYx3y1UCf_b",
    "outputId": "7290809a-25cd-4ccf-f593-030c73c9cf4b"
   },
   "outputs": [
    {
     "data": {
      "image/png": "[encoded data removed]",
      "text/plain": [
       "<Figure size 576x396 with 1 Axes>"
      ]
     },
     "metadata": {
      "tags": []
     },
     "output_type": "display_data"
    }
   ],
   "source": [
    "import sklearn.metrics as metrics\n",
    "# calculate the fpr and tpr for all thresholds of the classification\n",
    "probs = rndf.predict_proba(X_test)\n",
    "preds = probs[:,1]\n",
    "fpr, tpr, threshold = metrics.roc_curve(y_test, preds)\n",
    "roc_auc = metrics.auc(fpr, tpr)\n",
    "\n",
    "# method I: plt\n",
    "import matplotlib.pyplot as plt\n",
    "plt.title('Receiver Operating Characteristic')\n",
    "plt.plot(fpr, tpr, 'b', label = 'AUC = %0.2f' % roc_auc)\n",
    "plt.legend(loc = 'lower right')\n",
    "plt.plot([0, 1], [0, 1],'r--')\n",
    "plt.xlim([0, 1])\n",
    "plt.ylim([0, 1])\n",
    "plt.ylabel('True Positive Rate')\n",
    "plt.xlabel('False Positive Rate')\n",
    "plt.show()"
   ]
  },
  {
   "cell_type": "code",
   "execution_count": 26,
   "metadata": {
    "colab": {
     "base_uri": "https://localhost:8080/",
     "height": 170
    },
    "colab_type": "code",
    "id": "8QCobh8AxarS",
    "outputId": "7ee5cc98-3462-4e9b-a6d9-4a745c982462"
   },
   "outputs": [
    {
     "name": "stdout",
     "output_type": "stream",
     "text": [
      "              precision    recall  f1-score   support\n",
      "\n",
      "           0       0.96      0.98      0.97    185218\n",
      "           1       0.62      0.45      0.52     14629\n",
      "\n",
      "   micro avg       0.94      0.94      0.94    199847\n",
      "   macro avg       0.79      0.71      0.74    199847\n",
      "weighted avg       0.93      0.94      0.93    199847\n",
      "\n"
     ]
    }
   ],
   "source": [
    "from sklearn.metrics import classification_report, cohen_kappa_score\n",
    "print(classification_report(y_test,y_pred))"
   ]
  },
  {
   "cell_type": "markdown",
   "metadata": {
    "colab_type": "text",
    "id": "oWzVtFiAC0rS"
   },
   "source": [
    "## **XG Boost model** "
   ]
  },
  {
   "cell_type": "code",
   "execution_count": 0,
   "metadata": {
    "colab": {},
    "colab_type": "code",
    "id": "dLxJ7I86CgDy"
   },
   "outputs": [],
   "source": [
    "from xgboost import XGBClassifier\n",
    "xgb = XGBClassifier(max_depth=5,learning_rate=0.13, n_estimators=1500, silent=True, objective='binary:logistic')\n",
    "xgb.fit(X_train, y_train)\n",
    "y_pred = xgb.predict(X_test)\n",
    "#predictions = [round(value) for value in y_pred]\n",
    "\n",
    "\n",
    "\n"
   ]
  },
  {
   "cell_type": "code",
   "execution_count": 28,
   "metadata": {
    "colab": {
     "base_uri": "https://localhost:8080/",
     "height": 714
    },
    "colab_type": "code",
    "id": "5ebY45RyPoDH",
    "outputId": "441a7150-eace-4abf-e5ce-7ebef5cfdce1"
   },
   "outputs": [
    {
     "name": "stdout",
     "output_type": "stream",
     "text": [
      "Recall:0.129\n",
      "Precision:0.814\n",
      "f1:0.223\n",
      "kappa:0.207\n",
      "Confusion Matrix\n",
      "[[184786    432]\n",
      " [ 12741   1888]]\n",
      "                          Feature  Importance\n",
      "0            Sum_Autres_incendies    3.018483\n",
      "1       Sum_Incendie_de_batiments    2.469395\n",
      "2           Sum_Premier_Repondant   12.506001\n",
      "3               Sum_Sans_incendie    8.617379\n",
      "4                       Sum_Crime    0.234037\n",
      "5           Sum_Alarmes_incendies    8.119299\n",
      "6   Sum_False_Alertes_Annulations    0.408065\n",
      "7             Couples_No_Children    2.361378\n",
      "8             CouplesWithChildren    2.370379\n",
      "9                    SizeOF House    2.541407\n",
      "10                 Detached_House    2.796447\n",
      "11          Appartment_FiveFloors    2.451392\n",
      "12                      OtherType    1.260202\n",
      "13                  Semi_detached    2.466395\n",
      "14                      TownHouse    3.579573\n",
      "15                         Duplex    2.571411\n",
      "16        Appartment_less_5Florrs    1.311210\n",
      "17                   OtherDtached    1.992319\n",
      "18                     MObileHome    2.769443\n",
      "19                       1_4Rooms    1.293207\n",
      "20                        5_rooms    1.698272\n",
      "21                        6_rooms    1.389222\n",
      "22                        7_rooms    2.052328\n",
      "23                  8_RoomsOrmore    2.337374\n",
      "24                  Average_Rooms    1.797288\n",
      "25             Simple_Maintenance    0.885142\n",
      "26                  Major_repairs    1.284205\n",
      "27            Average_House_Value    3.012482\n",
      "28     AverageHouseholdIncome2015    2.631421\n",
      "29                      Avg_flors    3.396543\n",
      "30                  Avg_YearBuilt    4.812770\n",
      "31                   Avg_LandArea    4.716755\n",
      "32                   Avg_HomeArea    4.848776\n"
     ]
    }
   ],
   "source": [
    "from sklearn.metrics import confusion_matrix, recall_score, precision_score, f1_score, cohen_kappa_score\n",
    "print('Recall:{0:0.3f}'.format(recall_score(y_test,y_pred)))\n",
    "print('Precision:{0:0.3f}'.format(precision_score(y_test,y_pred)))\n",
    "print('f1:{0:0.3f}'.format(f1_score(y_test,y_pred)))\n",
    "print('kappa:{0:0.3f}'.format(cohen_kappa_score(y_test,y_pred)))\n",
    "print('Confusion Matrix')\n",
    "print(confusion_matrix(y_test, y_pred))\n",
    "VarImp=[]\n",
    "k=0\n",
    "for i in list(X_test.columns.values):\n",
    "  VarImp.append([str(X_test.columns.values[k]),(xgb.feature_importances_[k]*100)])\n",
    "  k+=1\n",
    "VarImpdf = pd.DataFrame(VarImp,columns=['Feature','Importance'])\n",
    "#VarImpdf=VarImpdf.sort_values('Importance',ascending=False)\n",
    "print(VarImpdf)\n"
   ]
  },
  {
   "cell_type": "code",
   "execution_count": 29,
   "metadata": {
    "colab": {
     "base_uri": "https://localhost:8080/",
     "height": 347
    },
    "colab_type": "code",
    "id": "GDP74raUqgUa",
    "outputId": "10beae44-0877-431f-d635-ad802c02e3c7"
   },
   "outputs": [
    {
     "data": {
      "image/png": "[encoded data removed]",
      "text/plain": [
       "<Figure size 576x396 with 1 Axes>"
      ]
     },
     "metadata": {
      "tags": []
     },
     "output_type": "display_data"
    }
   ],
   "source": [
    "from matplotlib import pyplot\n",
    "pyplot.bar(range(len(xgb.feature_importances_)), xgb.feature_importances_)\n",
    "pyplot.show()"
   ]
  },
  {
   "cell_type": "code",
   "execution_count": 30,
   "metadata": {
    "colab": {
     "base_uri": "https://localhost:8080/",
     "height": 376
    },
    "colab_type": "code",
    "id": "7CZUANgpCgIT",
    "outputId": "22f56ccd-26b5-4ae5-9e93-e76849be6d71"
   },
   "outputs": [
    {
     "data": {
      "image/png": "[encoded data removed]",
      "text/plain": [
       "<Figure size 576x396 with 1 Axes>"
      ]
     },
     "metadata": {
      "tags": []
     },
     "output_type": "display_data"
    }
   ],
   "source": [
    "import sklearn.metrics as metrics\n",
    "# calculate the fpr and tpr for all thresholds of the classification\n",
    "probs = xgb.predict_proba(X_test)\n",
    "preds = probs[:,1]\n",
    "fpr, tpr, threshold = metrics.roc_curve(y_test, preds)\n",
    "roc_auc = metrics.auc(fpr, tpr)\n",
    "\n",
    "# method I: plt\n",
    "import matplotlib.pyplot as plt\n",
    "plt.title('Receiver Operating Characteristic')\n",
    "plt.plot(fpr, tpr, 'b', label = 'AUC = %0.2f' % roc_auc)\n",
    "plt.legend(loc = 'lower right')\n",
    "plt.plot([0, 1], [0, 1],'r--')\n",
    "plt.xlim([0, 1])\n",
    "plt.ylim([0, 1])\n",
    "plt.ylabel('True Positive Rate')\n",
    "plt.xlabel('False Positive Rate')\n",
    "plt.show()\n"
   ]
  },
  {
   "cell_type": "code",
   "execution_count": 31,
   "metadata": {
    "colab": {
     "base_uri": "https://localhost:8080/",
     "height": 170
    },
    "colab_type": "code",
    "id": "oFWeFIkrJBS0",
    "outputId": "3621bc69-b11f-48f0-b47e-8801af266d1a"
   },
   "outputs": [
    {
     "name": "stdout",
     "output_type": "stream",
     "text": [
      "              precision    recall  f1-score   support\n",
      "\n",
      "           0       0.94      1.00      0.97    185218\n",
      "           1       0.81      0.13      0.22     14629\n",
      "\n",
      "   micro avg       0.93      0.93      0.93    199847\n",
      "   macro avg       0.87      0.56      0.59    199847\n",
      "weighted avg       0.93      0.93      0.91    199847\n",
      "\n"
     ]
    }
   ],
   "source": [
    "from sklearn.metrics import classification_report, cohen_kappa_score\n",
    "print(classification_report(y_test,y_pred))"
   ]
  },
  {
   "cell_type": "markdown",
   "metadata": {
    "colab_type": "text",
    "id": "vSLBjNTjTLzo"
   },
   "source": [
    "Here we will choose the best model and we will add the longitude and latitude along with the event data and export some data for visualization in Tableau\n"
   ]
  },
  {
   "cell_type": "code",
   "execution_count": 32,
   "metadata": {
    "colab": {
     "base_uri": "https://localhost:8080/",
     "height": 34
    },
    "colab_type": "code",
    "id": "vw-P4yPYT3Mu",
    "outputId": "c401e647-8682-4f63-8226-2775e965c925"
   },
   "outputs": [
    {
     "data": {
      "text/plain": [
       "(199847, 36)"
      ]
     },
     "execution_count": 32,
     "metadata": {
      "tags": []
     },
     "output_type": "execute_result"
    }
   ],
   "source": [
    "X_test_backup.shape"
   ]
  },
  {
   "cell_type": "code",
   "execution_count": 0,
   "metadata": {
    "colab": {},
    "colab_type": "code",
    "id": "Tf41kzYHT_4z"
   },
   "outputs": [],
   "source": [
    "y_pred = rndf.predict(X_test)\n",
    "Df_ForMap=X_test_backup.copy()\n",
    "Df_ForMap=Df_ForMap.iloc[:,0:3]\n",
    "Df_ForMap['y_true']=y_test\n",
    "Df_ForMap['y_pred']=y_pred"
   ]
  },
  {
   "cell_type": "code",
   "execution_count": 0,
   "metadata": {
    "colab": {},
    "colab_type": "code",
    "id": "oItb4H8XUC4j"
   },
   "outputs": [],
   "source": [
    "#Df_ForMap[Df_ForMap['y_true']==0].count()"
   ]
  },
  {
   "cell_type": "code",
   "execution_count": 0,
   "metadata": {
    "colab": {},
    "colab_type": "code",
    "id": "rH_VUYyqUWDr"
   },
   "outputs": [],
   "source": [
    "Df_ForMap.to_csv ('FinalMap.csv', index = None, header=True)"
   ]
  },
  {
   "cell_type": "code",
   "execution_count": 0,
   "metadata": {
    "colab": {},
    "colab_type": "code",
    "id": "HkreqRxqUcQz"
   },
   "outputs": [],
   "source": [
    "##  \"Pred:\" + str([Y Pred]) +\" True:\"+str([Y True]) "
   ]
  },
  {
   "cell_type": "code",
   "execution_count": 0,
   "metadata": {
    "colab": {},
    "colab_type": "code",
    "id": "DeflVST-2y0p"
   },
   "outputs": [],
   "source": []
  }
 ],
 "metadata": {
  "accelerator": "GPU",
  "colab": {
   "collapsed_sections": [],
   "name": "CapstoneProject-Final.ipynb",
   "provenance": [],
   "toc_visible": true,
   "version": "0.3.2"
  },
  "kernelspec": {
   "display_name": "Python 3",
   "language": "python",
   "name": "python3"
  },
  "language_info": {
   "codemirror_mode": {
    "name": "ipython",
    "version": 3
   },
   "file_extension": ".py",
   "mimetype": "text/x-python",
   "name": "python",
   "nbconvert_exporter": "python",
   "pygments_lexer": "ipython3",
   "version": "3.5.6"
  }
 },
 "nbformat": 4,
 "nbformat_minor": 1
}
